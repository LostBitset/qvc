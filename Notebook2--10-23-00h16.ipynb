{
 "cells": [
  {
   "cell_type": "code",
   "execution_count": 9,
   "id": "b8fa954f-dab1-47a8-88d8-3bc9c9132eac",
   "metadata": {
    "tags": []
   },
   "outputs": [
    {
     "name": "stdout",
     "output_type": "stream",
     "text": [
      "qiskit-imports, qiskit-runtime-service, misc-imports, and helper-functions have been loaded. \n"
     ]
    }
   ],
   "source": [
    "%run -i qiskit_prelude.py\n",
    "QCirc, QInstr, QReg, CReg = QuantumCircuit, Instruction, QuantumRegister, ClassicalRegister"
   ]
  },
  {
   "cell_type": "code",
   "execution_count": 21,
   "id": "d52daf82-2b79-4cfa-ba3c-3043314ab834",
   "metadata": {
    "tags": []
   },
   "outputs": [],
   "source": [
    "# Set how many bits we are going to use to represent X, Y, and t coordinates\n",
    "bits_x = 5\n",
    "bits_y = 5\n",
    "bits_t = 4\n",
    "\n",
    "# Set how many boxes there are:\n",
    "log2_n_boxes = 5\n",
    "n_boxes = 2 ** log2_n_boxes\n",
    "\n",
    "# Convert a positive integer into bits, erroring on overflow\n",
    "def as_bits(n_orig: int, bits: int):\n",
    "    n = n_orig\n",
    "    result = []\n",
    "    for i in range(bits - 1, -1, -1):\n",
    "        power = 2 ** i\n",
    "        if n >= power:\n",
    "            n -= power\n",
    "            result.append(True)\n",
    "        else:\n",
    "            result.append(False)\n",
    "    if n != 0:\n",
    "        raise RuntimeError(\"Overflow (or logic error) in as_bits.\")\n",
    "    return result\n",
    "\n",
    "assert as_bits(23, 5) == [True, False, True, True, True]"
   ]
  },
  {
   "cell_type": "code",
   "execution_count": 12,
   "id": "21304bd4-a130-45c8-9fee-982f8694cf73",
   "metadata": {
    "tags": []
   },
   "outputs": [],
   "source": [
    "@dataclass(frozen=True)\n",
    "class Box:\n",
    "    x:      int\n",
    "    y:      int\n",
    "    t:      int\n",
    "    log2_w: int # w = width (X)\n",
    "    log2_h: int # h = height (Y)\n",
    "    log2_d: int # d = duration (t)\n",
    "    \n",
    "    def volume(self) -> int:\n",
    "        return (2**self.log2_w) + (2**self.log2_h) + (2**self.log2_d)\n",
    "    \n",
    "    def get_start_as_bits(self, which: str):\n",
    "        if   which == \"X\":\n",
    "            return as_bits(self.x, bits_x)\n",
    "        elif which == \"Y\":\n",
    "            return as_bits(self.y, bits_y)\n",
    "        elif which == \"t\":\n",
    "            return as_bits(self.t, bits_z)\n",
    "        else:\n",
    "            raise RuntimeError(\"Which dimension (for start) must be X, Y, or t.\")"
   ]
  },
  {
   "cell_type": "code",
   "execution_count": 35,
   "id": "411902ba-39e9-466c-8ab8-1db078af1114",
   "metadata": {
    "tags": []
   },
   "outputs": [],
   "source": [
    "def circ_prepare_box_index(box_volumes: list[int]) -> QInstr:\n",
    "    # Set up our quantum registers\n",
    "    unweighted_binary = QReg(log2_n_boxes)\n",
    "    unary             = QReg(n_boxes)\n",
    "    weighted_binary   = QReg(log2_n_boxes)\n",
    "    # Create a circuit object\n",
    "    qc = QuantumCircuit(unweighted_binary, unary, weighted_binary, name=\"prepare_box_index\")\n",
    "    # First, we put the unweighted_binary register into a basic, uniform superposition\n",
    "    qc.h(unweighted_binary)\n",
    "    # Then, we convert this into an unary index\n",
    "    qc.append(circ_binary_index_to_unary(), [*unweighted_binary, *unary])\n",
    "    # Now, we can use this unary version to create a weighted binary version\n",
    "    qc.append(circ_unary_index_to_weighted_binary(), [*unary, *weighted_binary])\n",
    "    # We can then undo the circ_binary_index_to_unary instruction, to reuse our unary qubits\n",
    "    qc.append(circ_binary_index_to_unary().inverse(), [*unweighted_binary, *unary])\n",
    "    # Lastly, we can use the weighted_binary index and convert it back to unary\n",
    "    qc.append(circ_binary_index_to_unary(), [*weighted_binary, *unary])\n",
    "    # Return the circuit as an instruction\n",
    "    return qc.to_instruction()"
   ]
  },
  {
   "cell_type": "code",
   "execution_count": 28,
   "id": "8393e45e-1929-41f3-9925-39edfb2079da",
   "metadata": {
    "tags": []
   },
   "outputs": [],
   "source": [
    "boxes = [] # TODO FIXME"
   ]
  },
  {
   "cell_type": "code",
   "execution_count": 34,
   "id": "377a5dfa-9338-4987-bb45-5f61956ff6c1",
   "metadata": {
    "tags": []
   },
   "outputs": [
    {
     "data": {
      "text/plain": [
       "Ellipsis"
      ]
     },
     "execution_count": 34,
     "metadata": {},
     "output_type": "execute_result"
    }
   ],
   "source": [
    "# Now, for the overall quantum circuit\n",
    "# Calculate how many bits are needed to specify a box index\n",
    "# Let's first make all the necessary registers\n",
    "# First the quantum ones\n",
    "unweighted_binary_index = QReg(log2_n_boxes)\n",
    "unary_index             = QReg(n_boxes)\n",
    "weighted_binary_index   = QReg(log2_n_boxes)\n",
    "x_start                 = QReg(bits_x)\n",
    "x_offset                = QReg(bits_x)\n",
    "y_start                 = QReg(bits_y)\n",
    "y_offset                = QReg(bits_y)\n",
    "t_start                 = QReg(bits_t)\n",
    "t_offset                = QReg(bits_t)\n",
    "addition_helpers        = QReg(3)\n",
    "# Then the classical ones\n",
    "x_out                   = CReg(bits_x)\n",
    "y_out                   = CReg(bits_y)\n",
    "t_out                   = CReg(bits_t)\n",
    "# Create a circuit object\n",
    "qc = QuantumCircuit(\n",
    "    unweighted_binary_index,\n",
    "    unary_index,\n",
    "    weighted_binary_index,\n",
    "    x_start,\n",
    "    x_offset,\n",
    "    y_start,\n",
    "    y_offset,\n",
    "    t_start,\n",
    "    t_offset,\n",
    "    addition_helpers,\n",
    ")\n",
    "# There are five main steps:\n",
    "# 1. Prepare a weighted superposition of unary box index states\n",
    "qc.append(circ_prepare_box_index([ box.volume() for box in boxes ]), [\n",
    "    *unweighted_binary_index, *unary_index, *weighted_binary_index,\n",
    "])\n",
    "# 2. Transform this into a superposition of possible starting points\n",
    "...\n",
    "# 3. Transform this into a superposition of offsets\n",
    "...\n",
    "# 4. Add the starting points to the offsets, arriving at a superposition of points\n",
    "...\n",
    "# 5. Sample this superposition by measurement\n",
    "..."
   ]
  }
 ],
 "metadata": {
  "kernelspec": {
   "display_name": "Python 3 (ipykernel)",
   "language": "python",
   "name": "python3"
  },
  "language_info": {
   "codemirror_mode": {
    "name": "ipython",
    "version": 3
   },
   "file_extension": ".py",
   "mimetype": "text/x-python",
   "name": "python",
   "nbconvert_exporter": "python",
   "pygments_lexer": "ipython3",
   "version": "3.10.8"
  },
  "widgets": {
   "application/vnd.jupyter.widget-state+json": {
    "state": {
     "015c15b11a39475dad7f19511783b600": {
      "model_module": "@jupyter-widgets/base",
      "model_module_version": "2.0.0",
      "model_name": "LayoutModel",
      "state": {}
     },
     "06135bc53f0b4a90b8619492f3d47285": {
      "model_module": "@jupyter-widgets/controls",
      "model_module_version": "2.0.0",
      "model_name": "HTMLStyleModel",
      "state": {
       "description_width": "",
       "font_size": null,
       "text_color": null
      }
     },
     "0762fa96a80c4897b4b4f844516f86a8": {
      "model_module": "@jupyter-widgets/base",
      "model_module_version": "2.0.0",
      "model_name": "LayoutModel",
      "state": {
       "grid_template_areas": "\n                                       \". . . . right \"\n                                        ",
       "grid_template_columns": "20% 20% 20% 20% 20%",
       "width": "100%"
      }
     },
     "229cd749fcd74e47bc48fa69857f1527": {
      "model_module": "@jupyter-widgets/base",
      "model_module_version": "2.0.0",
      "model_name": "LayoutModel",
      "state": {
       "grid_area": "right",
       "padding": "0px 0px 0px 0px",
       "width": "70px"
      }
     },
     "23606d1039974247bbfbffe61fc7be8a": {
      "model_module": "@jupyter-widgets/controls",
      "model_module_version": "2.0.0",
      "model_name": "ButtonStyleModel",
      "state": {
       "font_family": null,
       "font_size": null,
       "font_style": null,
       "font_variant": null,
       "font_weight": null,
       "text_color": null,
       "text_decoration": null
      }
     },
     "28ccefc4c8bd4375ae21af3b39a5499d": {
      "model_module": "@jupyter-widgets/base",
      "model_module_version": "2.0.0",
      "model_name": "LayoutModel",
      "state": {
       "width": "70px"
      }
     },
     "290a07a63d3e43cb97fab2b4b149f5f2": {
      "model_module": "@jupyter-widgets/controls",
      "model_module_version": "2.0.0",
      "model_name": "HTMLModel",
      "state": {
       "layout": "IPY_MODEL_28ccefc4c8bd4375ae21af3b39a5499d",
       "style": "IPY_MODEL_2fbef2d628794492a69ab1d3c3a7e4e4",
       "value": "<h5>Queue</h5>"
      }
     },
     "2fbef2d628794492a69ab1d3c3a7e4e4": {
      "model_module": "@jupyter-widgets/controls",
      "model_module_version": "2.0.0",
      "model_name": "HTMLStyleModel",
      "state": {
       "description_width": "",
       "font_size": null,
       "text_color": null
      }
     },
     "30025b9b9acb4654962c988e59766d60": {
      "model_module": "@jupyter-widgets/base",
      "model_module_version": "2.0.0",
      "model_name": "LayoutModel",
      "state": {
       "margin": "0px 0px 0px 37px",
       "width": "600px"
      }
     },
     "34d7539aa7a1418a9c25281973e96a6d": {
      "model_module": "@jupyter-widgets/controls",
      "model_module_version": "2.0.0",
      "model_name": "ButtonModel",
      "state": {
       "button_style": "primary",
       "description": "Clear",
       "layout": "IPY_MODEL_229cd749fcd74e47bc48fa69857f1527",
       "style": "IPY_MODEL_23606d1039974247bbfbffe61fc7be8a",
       "tooltip": null
      }
     },
     "495647782ed1428fae2d622a76f8e9f3": {
      "model_module": "@jupyter-widgets/controls",
      "model_module_version": "2.0.0",
      "model_name": "HTMLModel",
      "state": {
       "layout": "IPY_MODEL_cb1769a2d6314c769209ca41613cafb1",
       "style": "IPY_MODEL_06135bc53f0b4a90b8619492f3d47285",
       "value": "<h5>Status</h5>"
      }
     },
     "6bd4daa8ca174fbb8d46c6de6ddcfbff": {
      "model_module": "@jupyter-widgets/controls",
      "model_module_version": "2.0.0",
      "model_name": "HTMLModel",
      "state": {
       "layout": "IPY_MODEL_be7d3ac4b705477b8a6554388d2f61a6",
       "style": "IPY_MODEL_7e83ecc56af14da0a5a9feaaa9fb3679",
       "value": "<h5>Backend</h5>"
      }
     },
     "711d7e4a88074921b8d9f4ca2c3d8df7": {
      "model_module": "@jupyter-widgets/controls",
      "model_module_version": "2.0.0",
      "model_name": "HTMLStyleModel",
      "state": {
       "description_width": "",
       "font_size": null,
       "text_color": null
      }
     },
     "7aefd0003aa9475080ae829ba0aef7c1": {
      "model_module": "@jupyter-widgets/base",
      "model_module_version": "2.0.0",
      "model_name": "LayoutModel",
      "state": {
       "margin": "0px 0px 10px 0px"
      }
     },
     "7e83ecc56af14da0a5a9feaaa9fb3679": {
      "model_module": "@jupyter-widgets/controls",
      "model_module_version": "2.0.0",
      "model_name": "HTMLStyleModel",
      "state": {
       "description_width": "",
       "font_size": null,
       "text_color": null
      }
     },
     "81ee17a44a0343f6bb49c1b419660daf": {
      "model_module": "@jupyter-widgets/controls",
      "model_module_version": "2.0.0",
      "model_name": "HTMLStyleModel",
      "state": {
       "description_width": "",
       "font_size": null,
       "text_color": null
      }
     },
     "82d94c321ed34dd19688c615cad25899": {
      "model_module": "@jupyter-widgets/controls",
      "model_module_version": "2.0.0",
      "model_name": "HTMLModel",
      "state": {
       "layout": "IPY_MODEL_015c15b11a39475dad7f19511783b600",
       "style": "IPY_MODEL_81ee17a44a0343f6bb49c1b419660daf",
       "value": "<h5>Message</h5>"
      }
     },
     "9729815db15d4005824e38add6e7f450": {
      "model_module": "@jupyter-widgets/controls",
      "model_module_version": "2.0.0",
      "model_name": "HTMLModel",
      "state": {
       "layout": "IPY_MODEL_7aefd0003aa9475080ae829ba0aef7c1",
       "style": "IPY_MODEL_f89cc455040c4b43b1b671ce6dd0d5f0",
       "value": "<p style='font-family: IBM Plex Sans, Arial, Helvetica, sans-serif; font-size: 20px; font-weight: medium;'>Circuit Properties</p>"
      }
     },
     "9f3bb13902bc4784a0d3a21d00ea734f": {
      "model_module": "@jupyter-widgets/controls",
      "model_module_version": "2.0.0",
      "model_name": "GridBoxModel",
      "state": {
       "children": [
        "IPY_MODEL_34d7539aa7a1418a9c25281973e96a6d"
       ],
       "layout": "IPY_MODEL_0762fa96a80c4897b4b4f844516f86a8"
      }
     },
     "be7d3ac4b705477b8a6554388d2f61a6": {
      "model_module": "@jupyter-widgets/base",
      "model_module_version": "2.0.0",
      "model_name": "LayoutModel",
      "state": {
       "width": "145px"
      }
     },
     "cb1769a2d6314c769209ca41613cafb1": {
      "model_module": "@jupyter-widgets/base",
      "model_module_version": "2.0.0",
      "model_name": "LayoutModel",
      "state": {
       "width": "95px"
      }
     },
     "ce80730e5c3c461f814d879cefb41f30": {
      "model_module": "@jupyter-widgets/controls",
      "model_module_version": "2.0.0",
      "model_name": "HTMLModel",
      "state": {
       "layout": "IPY_MODEL_e5d18428b34348948ac4455f3b86a7a9",
       "style": "IPY_MODEL_711d7e4a88074921b8d9f4ca2c3d8df7",
       "value": "<h5>Job ID</h5>"
      }
     },
     "de350f8d84bd49359b46d2e31ee7819d": {
      "model_module": "@jupyter-widgets/controls",
      "model_module_version": "2.0.0",
      "model_name": "HBoxModel",
      "state": {
       "children": [
        "IPY_MODEL_ce80730e5c3c461f814d879cefb41f30",
        "IPY_MODEL_6bd4daa8ca174fbb8d46c6de6ddcfbff",
        "IPY_MODEL_495647782ed1428fae2d622a76f8e9f3",
        "IPY_MODEL_290a07a63d3e43cb97fab2b4b149f5f2",
        "IPY_MODEL_82d94c321ed34dd19688c615cad25899"
       ],
       "layout": "IPY_MODEL_30025b9b9acb4654962c988e59766d60"
      }
     },
     "e5d18428b34348948ac4455f3b86a7a9": {
      "model_module": "@jupyter-widgets/base",
      "model_module_version": "2.0.0",
      "model_name": "LayoutModel",
      "state": {
       "width": "190px"
      }
     },
     "f89cc455040c4b43b1b671ce6dd0d5f0": {
      "model_module": "@jupyter-widgets/controls",
      "model_module_version": "2.0.0",
      "model_name": "HTMLStyleModel",
      "state": {
       "description_width": "",
       "font_size": null,
       "text_color": null
      }
     }
    },
    "version_major": 2,
    "version_minor": 0
   }
  }
 },
 "nbformat": 4,
 "nbformat_minor": 5
}
