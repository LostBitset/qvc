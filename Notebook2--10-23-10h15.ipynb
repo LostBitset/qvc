{
 "cells": [
  {
   "cell_type": "code",
   "execution_count": 2,
   "id": "b8fa954f-dab1-47a8-88d8-3bc9c9132eac",
   "metadata": {
    "tags": []
   },
   "outputs": [
    {
     "name": "stdout",
     "output_type": "stream",
     "text": [
      "qiskit-imports, qiskit-runtime-service, misc-imports, and helper-functions have been loaded. \n"
     ]
    }
   ],
   "source": [
    "%run -i qiskit_prelude.py\n",
    "QCirc, QInstr, QReg, CReg = QuantumCircuit, Instruction, QuantumRegister, ClassicalRegister"
   ]
  },
  {
   "cell_type": "code",
   "execution_count": 21,
   "id": "d52daf82-2b79-4cfa-ba3c-3043314ab834",
   "metadata": {
    "tags": []
   },
   "outputs": [],
   "source": [
    "# Set how many bits we are going to use to represent X, Y, and t coordinates\n",
    "bits_x = 5\n",
    "bits_y = 5\n",
    "bits_t = 4\n",
    "\n",
    "# Set how many boxes there are:\n",
    "log2_n_boxes = 5\n",
    "n_boxes = 2 ** log2_n_boxes\n",
    "\n",
    "# Convert a positive integer into bits, erroring on overflow\n",
    "def as_bits(n_orig: int, bits: int):\n",
    "    n = n_orig\n",
    "    result = []\n",
    "    for i in range(bits - 1, -1, -1):\n",
    "        power = 2 ** i\n",
    "        if n >= power:\n",
    "            n -= power\n",
    "            result.append(True)\n",
    "        else:\n",
    "            result.append(False)\n",
    "    if n != 0:\n",
    "        raise RuntimeError(\"Overflow (or logic error) in as_bits.\")\n",
    "    return result\n",
    "\n",
    "assert as_bits(23, 5) == [True, False, True, True, True]"
   ]
  },
  {
   "cell_type": "code",
   "execution_count": 12,
   "id": "21304bd4-a130-45c8-9fee-982f8694cf73",
   "metadata": {
    "tags": []
   },
   "outputs": [],
   "source": [
    "@dataclass(frozen=True)\n",
    "class Box:\n",
    "    x:      int\n",
    "    y:      int\n",
    "    t:      int\n",
    "    log2_w: int # w = width (X)\n",
    "    log2_h: int # h = height (Y)\n",
    "    log2_d: int # d = duration (t)\n",
    "    \n",
    "    def volume(self) -> int:\n",
    "        return (2**self.log2_w) + (2**self.log2_h) + (2**self.log2_d)\n",
    "    \n",
    "    def get_start_as_bits(self, which: str):\n",
    "        if   which == \"X\":\n",
    "            return as_bits(self.x, bits_x)\n",
    "        elif which == \"Y\":\n",
    "            return as_bits(self.y, bits_y)\n",
    "        elif which == \"t\":\n",
    "            return as_bits(self.t, bits_z)\n",
    "        else:\n",
    "            raise RuntimeError(\"Which dimension (for start) must be X, Y, or t.\")"
   ]
  },
  {
   "cell_type": "code",
   "execution_count": 4,
   "id": "411902ba-39e9-466c-8ab8-1db078af1114",
   "metadata": {
    "tags": []
   },
   "outputs": [],
   "source": [
    "def circ_prepare_box_index(box_volumes: list[int]) -> QInstr:\n",
    "    # Set up our quantum registers\n",
    "    unweighted_binary = QReg(log2_n_boxes)\n",
    "    unary             = QReg(n_boxes)\n",
    "    weighted_binary   = QReg(log2_n_boxes)\n",
    "    # Create a circuit object\n",
    "    qc = QuantumCircuit(unweighted_binary, unary, weighted_binary, name=\"prepare_box_index\")\n",
    "    # First, we put the unweighted_binary register into a basic, uniform superposition\n",
    "    qc.h(unweighted_binary)\n",
    "    # Then, we convert this into an unary index\n",
    "    qc.append(circ_binary_to_unary(n_boxes, log2_n_boxes), [*unweighted_binary, *unary])\n",
    "    # Now, we can use this unary version to create a weighted binary version\n",
    "    qc.append(circ_unary_index_to_weighted_binary(), [*unary, *weighted_binary])\n",
    "    # We can then undo the circ_binary_index_to_unary instruction, to reuse our unary qubits\n",
    "    qc.append(circ_binary_to_unary(n_boxes, log2_n_boxes).inverse(), [*unweighted_binary, *unary])\n",
    "    # Lastly, we can use the weighted_binary index and convert it back to unary\n",
    "    qc.append(circ_binary_to_unary(n_boxes, log2_n_boxes), [*weighted_binary, *unary])\n",
    "    # Return the circuit as an instruction\n",
    "    return qc.to_instruction()\n",
    "\n",
    "def circ_binary_index_to_unary(n: int, log2_n: int) -> QInstr:\n",
    "    # Set up our quantum registers\n",
    "    binary = QReg(log2_n)\n",
    "    unary  = QReg(n)\n",
    "    # Create a circuit object\n",
    "    qc = QuantumCircuit(binary, unary)\n",
    "    # First, we appropriately entangle the first two unary digits\n",
    "    qc.cx(binary[0], unary[0])\n",
    "    qc.x(binary[0])\n",
    "    qc.cx(binary[0], unary[1])\n",
    "    # Now, we can use a series of CSWAP gates to move the unary digits around"
   ]
  },
  {
   "cell_type": "code",
   "execution_count": 28,
   "id": "8393e45e-1929-41f3-9925-39edfb2079da",
   "metadata": {
    "tags": []
   },
   "outputs": [],
   "source": [
    "boxes = [] # TODO FIXME"
   ]
  },
  {
   "cell_type": "code",
   "execution_count": 34,
   "id": "377a5dfa-9338-4987-bb45-5f61956ff6c1",
   "metadata": {
    "tags": []
   },
   "outputs": [
    {
     "data": {
      "text/plain": [
       "Ellipsis"
      ]
     },
     "execution_count": 34,
     "metadata": {},
     "output_type": "execute_result"
    }
   ],
   "source": [
    "# Now, for the overall quantum circuit\n",
    "# Calculate how many bits are needed to specify a box index\n",
    "# Let's first make all the necessary registers\n",
    "# First the quantum ones\n",
    "unweighted_binary_index = QReg(log2_n_boxes)\n",
    "unary_index             = QReg(n_boxes)\n",
    "weighted_binary_index   = QReg(log2_n_boxes)\n",
    "x_start                 = QReg(bits_x)\n",
    "x_offset                = QReg(bits_x)\n",
    "y_start                 = QReg(bits_y)\n",
    "y_offset                = QReg(bits_y)\n",
    "t_start                 = QReg(bits_t)\n",
    "t_offset                = QReg(bits_t)\n",
    "addition_helpers        = QReg(3)\n",
    "# Then the classical ones\n",
    "x_out                   = CReg(bits_x)\n",
    "y_out                   = CReg(bits_y)\n",
    "t_out                   = CReg(bits_t)\n",
    "# Create a circuit object\n",
    "qc = QuantumCircuit(\n",
    "    unweighted_binary_index,\n",
    "    unary_index,\n",
    "    weighted_binary_index,\n",
    "    x_start,\n",
    "    x_offset,\n",
    "    y_start,\n",
    "    y_offset,\n",
    "    t_start,\n",
    "    t_offset,\n",
    "    addition_helpers,\n",
    ")\n",
    "# There are five main steps:\n",
    "# 1. Prepare a weighted superposition of unary box index states\n",
    "qc.append(circ_prepare_box_index([ box.volume() for box in boxes ]), [\n",
    "    *unweighted_binary_index, *unary_index, *weighted_binary_index,\n",
    "])\n",
    "# 2. Transform this into a superposition of possible starting points\n",
    "...\n",
    "# 3. Transform this into a superposition of offsets\n",
    "...\n",
    "# 4. Add the starting points to the offsets, arriving at a superposition of points\n",
    "...\n",
    "# 5. Sample this superposition by measurement\n",
    "..."
   ]
  }
 ],
 "metadata": {
  "kernelspec": {
   "display_name": "Python 3 (ipykernel)",
   "language": "python",
   "name": "python3"
  },
  "language_info": {
   "codemirror_mode": {
    "name": "ipython",
    "version": 3
   },
   "file_extension": ".py",
   "mimetype": "text/x-python",
   "name": "python",
   "nbconvert_exporter": "python",
   "pygments_lexer": "ipython3",
   "version": "3.10.8"
  },
  "widgets": {
   "application/vnd.jupyter.widget-state+json": {
    "state": {
     "15d5ac04be0f4f2897bfb77ddee1f003": {
      "model_module": "@jupyter-widgets/base",
      "model_module_version": "2.0.0",
      "model_name": "LayoutModel",
      "state": {
       "margin": "0px 0px 0px 37px",
       "width": "600px"
      }
     },
     "1ce48f5ff44346b688748a8686cb1c5d": {
      "model_module": "@jupyter-widgets/controls",
      "model_module_version": "2.0.0",
      "model_name": "HTMLModel",
      "state": {
       "layout": "IPY_MODEL_5fbffb2d8e254a828e71fce5563432c4",
       "style": "IPY_MODEL_4477d765d58f4a13930d426ebca91f52",
       "value": "<p style='font-family: IBM Plex Sans, Arial, Helvetica, sans-serif; font-size: 20px; font-weight: medium;'>Circuit Properties</p>"
      }
     },
     "1dc0d19abcae4295a878d84e6cccde8a": {
      "model_module": "@jupyter-widgets/base",
      "model_module_version": "2.0.0",
      "model_name": "LayoutModel",
      "state": {
       "grid_area": "right",
       "padding": "0px 0px 0px 0px",
       "width": "70px"
      }
     },
     "369ed315a06041b58ea338650e721db5": {
      "model_module": "@jupyter-widgets/controls",
      "model_module_version": "2.0.0",
      "model_name": "HTMLStyleModel",
      "state": {
       "description_width": "",
       "font_size": null,
       "text_color": null
      }
     },
     "399d185e8ca84738bfc75dbbb6ab13c9": {
      "model_module": "@jupyter-widgets/controls",
      "model_module_version": "2.0.0",
      "model_name": "HTMLModel",
      "state": {
       "layout": "IPY_MODEL_c5327c5f8fac43a09a802818d26cf134",
       "style": "IPY_MODEL_e8359ab75f054679b76a05a90a008cd5",
       "value": "<h5>Message</h5>"
      }
     },
     "42adbcd148e74813ba3c1fa6d704e881": {
      "model_module": "@jupyter-widgets/base",
      "model_module_version": "2.0.0",
      "model_name": "LayoutModel",
      "state": {
       "width": "70px"
      }
     },
     "4477d765d58f4a13930d426ebca91f52": {
      "model_module": "@jupyter-widgets/controls",
      "model_module_version": "2.0.0",
      "model_name": "HTMLStyleModel",
      "state": {
       "description_width": "",
       "font_size": null,
       "text_color": null
      }
     },
     "47d976dcd26f47bc9621d96ec2025169": {
      "model_module": "@jupyter-widgets/controls",
      "model_module_version": "2.0.0",
      "model_name": "GridBoxModel",
      "state": {
       "children": [
        "IPY_MODEL_e4be74990034499fa898031450e3f6e7"
       ],
       "layout": "IPY_MODEL_812716f243fd4f2e870324108b6404ec"
      }
     },
     "541ccaa232364d049db408c0b4bc407f": {
      "model_module": "@jupyter-widgets/base",
      "model_module_version": "2.0.0",
      "model_name": "LayoutModel",
      "state": {
       "width": "95px"
      }
     },
     "5fbffb2d8e254a828e71fce5563432c4": {
      "model_module": "@jupyter-widgets/base",
      "model_module_version": "2.0.0",
      "model_name": "LayoutModel",
      "state": {
       "margin": "0px 0px 10px 0px"
      }
     },
     "677093a9e5d945bfac678e23f23e8d52": {
      "model_module": "@jupyter-widgets/controls",
      "model_module_version": "2.0.0",
      "model_name": "HTMLModel",
      "state": {
       "layout": "IPY_MODEL_c274952df8b2431a80081995e2d022c5",
       "style": "IPY_MODEL_edd9b5f549824f78b8c600ba808ee74d",
       "value": "<h5>Backend</h5>"
      }
     },
     "6bd0d37f51e64e349f1d4700fb76f0a0": {
      "model_module": "@jupyter-widgets/controls",
      "model_module_version": "2.0.0",
      "model_name": "HTMLModel",
      "state": {
       "layout": "IPY_MODEL_94986e7983bc4d078afb0daa1b688b99",
       "style": "IPY_MODEL_acdcda65f9c34fc1bbb46b5a3a505b14",
       "value": "<h5>Job ID</h5>"
      }
     },
     "812716f243fd4f2e870324108b6404ec": {
      "model_module": "@jupyter-widgets/base",
      "model_module_version": "2.0.0",
      "model_name": "LayoutModel",
      "state": {
       "grid_template_areas": "\n                                       \". . . . right \"\n                                        ",
       "grid_template_columns": "20% 20% 20% 20% 20%",
       "width": "100%"
      }
     },
     "8a0208ab42b54434be359bf090dc816d": {
      "model_module": "@jupyter-widgets/controls",
      "model_module_version": "2.0.0",
      "model_name": "HTMLModel",
      "state": {
       "layout": "IPY_MODEL_42adbcd148e74813ba3c1fa6d704e881",
       "style": "IPY_MODEL_c8bed7b81149498e8cd75cbeef108732",
       "value": "<h5>Queue</h5>"
      }
     },
     "94986e7983bc4d078afb0daa1b688b99": {
      "model_module": "@jupyter-widgets/base",
      "model_module_version": "2.0.0",
      "model_name": "LayoutModel",
      "state": {
       "width": "190px"
      }
     },
     "acdcda65f9c34fc1bbb46b5a3a505b14": {
      "model_module": "@jupyter-widgets/controls",
      "model_module_version": "2.0.0",
      "model_name": "HTMLStyleModel",
      "state": {
       "description_width": "",
       "font_size": null,
       "text_color": null
      }
     },
     "b8c8ce4b6fea455f8ccf20514458bb73": {
      "model_module": "@jupyter-widgets/controls",
      "model_module_version": "2.0.0",
      "model_name": "HTMLModel",
      "state": {
       "layout": "IPY_MODEL_541ccaa232364d049db408c0b4bc407f",
       "style": "IPY_MODEL_369ed315a06041b58ea338650e721db5",
       "value": "<h5>Status</h5>"
      }
     },
     "c274952df8b2431a80081995e2d022c5": {
      "model_module": "@jupyter-widgets/base",
      "model_module_version": "2.0.0",
      "model_name": "LayoutModel",
      "state": {
       "width": "145px"
      }
     },
     "c5327c5f8fac43a09a802818d26cf134": {
      "model_module": "@jupyter-widgets/base",
      "model_module_version": "2.0.0",
      "model_name": "LayoutModel",
      "state": {}
     },
     "c8bed7b81149498e8cd75cbeef108732": {
      "model_module": "@jupyter-widgets/controls",
      "model_module_version": "2.0.0",
      "model_name": "HTMLStyleModel",
      "state": {
       "description_width": "",
       "font_size": null,
       "text_color": null
      }
     },
     "dfecec5ec4f94627bb2b6b218473afb1": {
      "model_module": "@jupyter-widgets/controls",
      "model_module_version": "2.0.0",
      "model_name": "HBoxModel",
      "state": {
       "children": [
        "IPY_MODEL_6bd0d37f51e64e349f1d4700fb76f0a0",
        "IPY_MODEL_677093a9e5d945bfac678e23f23e8d52",
        "IPY_MODEL_b8c8ce4b6fea455f8ccf20514458bb73",
        "IPY_MODEL_8a0208ab42b54434be359bf090dc816d",
        "IPY_MODEL_399d185e8ca84738bfc75dbbb6ab13c9"
       ],
       "layout": "IPY_MODEL_15d5ac04be0f4f2897bfb77ddee1f003"
      }
     },
     "dff9bcc9794d4caa9a040f738f726837": {
      "model_module": "@jupyter-widgets/controls",
      "model_module_version": "2.0.0",
      "model_name": "ButtonStyleModel",
      "state": {
       "font_family": null,
       "font_size": null,
       "font_style": null,
       "font_variant": null,
       "font_weight": null,
       "text_color": null,
       "text_decoration": null
      }
     },
     "e4be74990034499fa898031450e3f6e7": {
      "model_module": "@jupyter-widgets/controls",
      "model_module_version": "2.0.0",
      "model_name": "ButtonModel",
      "state": {
       "button_style": "primary",
       "description": "Clear",
       "layout": "IPY_MODEL_1dc0d19abcae4295a878d84e6cccde8a",
       "style": "IPY_MODEL_dff9bcc9794d4caa9a040f738f726837",
       "tooltip": null
      }
     },
     "e8359ab75f054679b76a05a90a008cd5": {
      "model_module": "@jupyter-widgets/controls",
      "model_module_version": "2.0.0",
      "model_name": "HTMLStyleModel",
      "state": {
       "description_width": "",
       "font_size": null,
       "text_color": null
      }
     },
     "edd9b5f549824f78b8c600ba808ee74d": {
      "model_module": "@jupyter-widgets/controls",
      "model_module_version": "2.0.0",
      "model_name": "HTMLStyleModel",
      "state": {
       "description_width": "",
       "font_size": null,
       "text_color": null
      }
     }
    },
    "version_major": 2,
    "version_minor": 0
   }
  }
 },
 "nbformat": 4,
 "nbformat_minor": 5
}
