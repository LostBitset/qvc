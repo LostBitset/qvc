{
 "cells": [
  {
   "cell_type": "code",
   "execution_count": 4,
   "id": "b8fa954f-dab1-47a8-88d8-3bc9c9132eac",
   "metadata": {
    "tags": []
   },
   "outputs": [
    {
     "name": "stdout",
     "output_type": "stream",
     "text": [
      "qiskit-imports, qiskit-runtime-service, misc-imports, and helper-functions have been loaded. \n"
     ]
    }
   ],
   "source": [
    "%run -i qiskit_prelude.py\n",
    "QCirc, QInstr, QReg, CReg = QuantumCircuit, Instruction, QuantumRegister, ClassicalRegister"
   ]
  },
  {
   "cell_type": "code",
   "execution_count": 27,
   "id": "d52daf82-2b79-4cfa-ba3c-3043314ab834",
   "metadata": {
    "tags": []
   },
   "outputs": [],
   "source": [
    "# Set how many bits we are going to use to represent X, Y, and t coordinates\n",
    "bits_x = 4\n",
    "bits_y = 4\n",
    "bits_t = 4\n",
    "\n",
    "# Set how many boxes there are:\n",
    "log2_n_boxes = 4\n",
    "n_boxes = 1 << log2_n_boxes\n",
    "\n",
    "# Convert a positive integer into bits, erroring on overflow\n",
    "def as_bits(n_orig: int, bits: int):\n",
    "    n = n_orig\n",
    "    result = []\n",
    "    for i in range(bits - 1, -1, -1):\n",
    "        power = 1 << i\n",
    "        if n >= power:\n",
    "            n -= power\n",
    "            result.append(True)\n",
    "        else:\n",
    "            result.append(False)\n",
    "    if n != 0:\n",
    "        raise RuntimeError(\"Overflow (or logic error) in as_bits.\")\n",
    "    return result\n",
    "\n",
    "assert as_bits(23, 5) == [True, False, True, True, True]"
   ]
  },
  {
   "cell_type": "code",
   "execution_count": 6,
   "id": "21304bd4-a130-45c8-9fee-982f8694cf73",
   "metadata": {
    "tags": []
   },
   "outputs": [],
   "source": [
    "@dataclass(frozen=True)\n",
    "class Box:\n",
    "    x:      int\n",
    "    y:      int\n",
    "    t:      int\n",
    "    log2_w: int # w = width (X)\n",
    "    log2_h: int # h = height (Y)\n",
    "    log2_d: int # d = duration (t)\n",
    "    \n",
    "    def volume(self) -> int:\n",
    "        return (2**self.log2_w) + (2**self.log2_h) + (2**self.log2_d)\n",
    "    \n",
    "    def get_start_as_bits(self, which: str):\n",
    "        if   which == \"X\":\n",
    "            return as_bits(self.x, bits_x)\n",
    "        elif which == \"Y\":\n",
    "            return as_bits(self.y, bits_y)\n",
    "        elif which == \"t\":\n",
    "            return as_bits(self.t, bits_z)\n",
    "        else:\n",
    "            raise RuntimeError(\"Which dimension (for start) must be X, Y, or t.\")"
   ]
  },
  {
   "cell_type": "code",
   "execution_count": 42,
   "id": "f6cb0b29-84be-4993-b931-42081de95674",
   "metadata": {
    "tags": []
   },
   "outputs": [],
   "source": [
    "@dataclass(frozen=True)\n",
    "class Shift:\n",
    "    qubit_index_a: int\n",
    "    qubit_index_b: int\n",
    "    amount: float\n",
    "    \n",
    "    def ry_angle(self):\n",
    "        return ..."
   ]
  },
  {
   "cell_type": "code",
   "execution_count": 44,
   "id": "411902ba-39e9-466c-8ab8-1db078af1114",
   "metadata": {
    "tags": []
   },
   "outputs": [],
   "source": [
    "def circ_prepare_box_index(box_volumes: list[int]) -> QInstr:\n",
    "    # Set up our quantum registers\n",
    "    unweighted_binary_index = QReg(log2_n_boxes)\n",
    "    unary_index             = QReg(n_boxes)\n",
    "    index_distribution      = QReg(n_shifts)\n",
    "    index_distribution_help = QReg(n_shifts)\n",
    "    # Create a circuit object\n",
    "    qc = QuantumCircuit(unweighted_binary, unary, weighted_binary, name=\"prepare_box_index\")\n",
    "    # First, we put the unweighted_binary register into a basic, uniform superposition\n",
    "    qc.h(unweighted_binary)\n",
    "    # Then, we convert this into an unary index\n",
    "    qc.append(circ_binary_to_unary(n_boxes, log2_n_boxes), [*unweighted_binary, *unary])\n",
    "    # Then, we can weight the unary part (not perfectly, but nothing about this is anywhere close to perfect)\n",
    "    qc.append(circ_weight_unary(box_volumes), [*unary, *index_distribution, *index_distribution_help])\n",
    "    # Return the circuit as an instruction\n",
    "    return qc.to_instruction()\n",
    "\n",
    "def circ_binary_to_unary(n: int, log2_n: int) -> QInstr:\n",
    "    # Set up our quantum registers\n",
    "    binary = QReg(log2_n)\n",
    "    unary  = QReg(n)\n",
    "    # Create a circuit object\n",
    "    qc = QuantumCircuit(binary, unary, name=\"binary_to_unary\")\n",
    "    # First, we appropriately entangle the first two unary digits\n",
    "    qc.cx(binary[0], unary[1])\n",
    "    qc.x(binary[0])\n",
    "    qc.cx(binary[0], unary[0])\n",
    "    # Now, we can use a series of CSWAP gates to move the unary digits around\n",
    "    n_processed = 2\n",
    "    for i in range(log2_n-1):\n",
    "        for j in range(n_processed):\n",
    "            qc.cswap(binary[i], unary[j], unary[j + n_processed])\n",
    "        n_processed *= 2\n",
    "    # Return the circuit as an instruction\n",
    "    return qc.to_instruction()\n",
    "\n",
    "def circ_weight_unary(box_volumes: list[int]) -> QInstr:\n",
    "    # Set up our quantum registers\n",
    "    unary                   = QReg(n_boxes)\n",
    "    index_distribution      = QReg(n_shifts)\n",
    "    index_distribution_help = QReg(n_shifts)\n",
    "    # Create a circuit object\n",
    "    qc = QuantumCircuit(unary, index_distribution, index_distribution_help, name=\"weight_unary\")\n",
    "    # Perform the necessary shifts\n",
    "    for i, shift in enumerate(shifts):\n",
    "        qc.ry(shift.ry_angle(), index_distribution[i])\n",
    "        qc.ccx(unary[shift.qubit_index_a], index_distribution[i], index_distribution_help[i])\n",
    "        qc.cx(index_distribution_help[i], unary[qubit_index_a])\n",
    "        qc.cx(index_distribution_help[i], unary[qubit_index_b])\n",
    "    # Return the circuit as an instruction\n",
    "    return qc.to_instruction()"
   ]
  },
  {
   "cell_type": "code",
   "execution_count": 45,
   "id": "8393e45e-1929-41f3-9925-39edfb2079da",
   "metadata": {
    "tags": []
   },
   "outputs": [],
   "source": [
    "boxes_orig = [ None for _ in range(n_boxes) ] # TODO FIXME"
   ]
  },
  {
   "cell_type": "code",
   "execution_count": 46,
   "id": "dbca146e-c1f5-4408-9e0d-433cafff5dbd",
   "metadata": {
    "tags": []
   },
   "outputs": [],
   "source": [
    "# First, we need to preprocess the boxes, giving us n_shifts\n",
    "boxes = boxes_orig # TODO FIXME\n",
    "shifts = [ None for _ in range(n_boxes // 2) ] # TODO FIXME\n",
    "n_shifts = len(shifts)"
   ]
  },
  {
   "cell_type": "code",
   "execution_count": 49,
   "id": "377a5dfa-9338-4987-bb45-5f61956ff6c1",
   "metadata": {
    "tags": []
   },
   "outputs": [
    {
     "name": "stdout",
     "output_type": "stream",
     "text": [
      "Requires 126 qubits for two parallel runs.\n"
     ]
    }
   ],
   "source": [
    "# Now, for the overall quantum circuit for a single timeslice\n",
    "def circ_main_once(just_get_size: bool = False) -> QInstr | int:\n",
    "    # Let's first make all the necessary registers\n",
    "    # First the quantum ones\n",
    "    unweighted_binary_index = QReg(log2_n_boxes, name=\"unweighted_binary_index\")\n",
    "    unary_index             = QReg(n_boxes     , name=\"unary_index\")\n",
    "    index_distribution      = QReg(n_shifts    , name=\"index_distribution\")\n",
    "    index_distribution_help = QReg(n_shifts    , name=\"index_distribution_help\")\n",
    "    x_start                 = QReg(bits_x      , name=\"x_start\")\n",
    "    x_offset                = QReg(bits_x      , name=\"x_offset\")\n",
    "    y_start                 = QReg(bits_y      , name=\"y_start\")\n",
    "    y_offset                = QReg(bits_y      , name=\"y_offset\")\n",
    "    t_start                 = QReg(bits_t      , name=\"t_start\")\n",
    "    t_offset                = QReg(bits_t      , name=\"t_offset\")\n",
    "    addition_help           = QReg(3           , name=\"addition_help\")\n",
    "    # Then the classical ones\n",
    "    x_out                   = CReg(bits_x)\n",
    "    y_out                   = CReg(bits_y)\n",
    "    t_out                   = CReg(bits_t)\n",
    "    # Create a circuit object\n",
    "    qc = QuantumCircuit(\n",
    "        unweighted_binary_index,\n",
    "        unary_index,\n",
    "        index_distribution,\n",
    "        index_distribution_help,\n",
    "        x_start,\n",
    "        x_offset,\n",
    "        y_start,\n",
    "        y_offset,\n",
    "        t_start,\n",
    "        t_offset,\n",
    "        addition_help,\n",
    "    )\n",
    "    if just_get_size:\n",
    "        return qc.num_qubits\n",
    "    # There are five main steps:\n",
    "    # 1. Prepare a weighted superposition of unary box index states\n",
    "    qc.append(circ_prepare_box_index([ box.volume() for box in boxes ]), [\n",
    "        *unweighted_binary_index, *unary_index,\n",
    "        *index_distribution, *index_distribution_help,\n",
    "    ])\n",
    "    # 2. Transform this into a superposition of possible starting points\n",
    "    ...\n",
    "    # 3. Transform this into a superposition of offsets\n",
    "    ...\n",
    "    # 4. Add the starting points to the offsets, arriving at a superposition of points\n",
    "    ...\n",
    "    # 5. Sample this superposition by measurement\n",
    "    ...\n",
    "    # Return the circuit as an instruction\n",
    "    return qc.to_instruction()\n",
    "\n",
    "print(f\"Requires {2*circ_main_once(True)} qubits for two parallel runs.\")"
   ]
  }
 ],
 "metadata": {
  "kernelspec": {
   "display_name": "Python 3 (ipykernel)",
   "language": "python",
   "name": "python3"
  },
  "language_info": {
   "codemirror_mode": {
    "name": "ipython",
    "version": 3
   },
   "file_extension": ".py",
   "mimetype": "text/x-python",
   "name": "python",
   "nbconvert_exporter": "python",
   "pygments_lexer": "ipython3",
   "version": "3.10.8"
  },
  "widgets": {
   "application/vnd.jupyter.widget-state+json": {
    "state": {
     "06b4237b1f464abc84037cbf8c4fffe9": {
      "model_module": "@jupyter-widgets/controls",
      "model_module_version": "2.0.0",
      "model_name": "HTMLStyleModel",
      "state": {
       "description_width": "",
       "font_size": null,
       "text_color": null
      }
     },
     "0f3745f50e1a4486a86d868dd6e27f7f": {
      "model_module": "@jupyter-widgets/controls",
      "model_module_version": "2.0.0",
      "model_name": "HTMLStyleModel",
      "state": {
       "description_width": "",
       "font_size": null,
       "text_color": null
      }
     },
     "159aef3f6df342f9851842859d513fb2": {
      "model_module": "@jupyter-widgets/base",
      "model_module_version": "2.0.0",
      "model_name": "LayoutModel",
      "state": {
       "width": "190px"
      }
     },
     "15e1d9ea4f2c4b038b7245cd1f987029": {
      "model_module": "@jupyter-widgets/base",
      "model_module_version": "2.0.0",
      "model_name": "LayoutModel",
      "state": {}
     },
     "1c1615eb1d064cdd8eca1224d5b2dadb": {
      "model_module": "@jupyter-widgets/controls",
      "model_module_version": "2.0.0",
      "model_name": "HTMLModel",
      "state": {
       "layout": "IPY_MODEL_a337f3dee05d4dbcbee21c76eb96bab4",
       "style": "IPY_MODEL_5cb820f637674a31af82302a7bd7f815",
       "value": "<h5>Status</h5>"
      }
     },
     "2a1a9362fd644ff5818577269f5d3b37": {
      "model_module": "@jupyter-widgets/base",
      "model_module_version": "2.0.0",
      "model_name": "LayoutModel",
      "state": {
       "width": "145px"
      }
     },
     "3917e5cf4dca46e588ce49a7e5c09085": {
      "model_module": "@jupyter-widgets/controls",
      "model_module_version": "2.0.0",
      "model_name": "HTMLStyleModel",
      "state": {
       "description_width": "",
       "font_size": null,
       "text_color": null
      }
     },
     "5614d829218f431ea84e9bc4832881e2": {
      "model_module": "@jupyter-widgets/base",
      "model_module_version": "2.0.0",
      "model_name": "LayoutModel",
      "state": {
       "margin": "0px 0px 10px 0px"
      }
     },
     "5cb820f637674a31af82302a7bd7f815": {
      "model_module": "@jupyter-widgets/controls",
      "model_module_version": "2.0.0",
      "model_name": "HTMLStyleModel",
      "state": {
       "description_width": "",
       "font_size": null,
       "text_color": null
      }
     },
     "63ccf7e940a14922a0d0c1d48bc81ade": {
      "model_module": "@jupyter-widgets/controls",
      "model_module_version": "2.0.0",
      "model_name": "GridBoxModel",
      "state": {
       "children": [
        "IPY_MODEL_e90f4c36f2e54fbf9203c40502463ccd"
       ],
       "layout": "IPY_MODEL_c6cea62e47204e47833c2c43b47889f0"
      }
     },
     "6c682faec16f455b8a3359bed0528978": {
      "model_module": "@jupyter-widgets/controls",
      "model_module_version": "2.0.0",
      "model_name": "HTMLModel",
      "state": {
       "layout": "IPY_MODEL_15e1d9ea4f2c4b038b7245cd1f987029",
       "style": "IPY_MODEL_79407379f9804079861b3f3b7748920e",
       "value": "<h5>Message</h5>"
      }
     },
     "6cd618e3e7cf4ee59f840c5b8b54c651": {
      "model_module": "@jupyter-widgets/controls",
      "model_module_version": "2.0.0",
      "model_name": "HBoxModel",
      "state": {
       "children": [
        "IPY_MODEL_c9ab72f5e4814580932359636a8dced6",
        "IPY_MODEL_7acf556077604f958201e0a00c3ead8d",
        "IPY_MODEL_1c1615eb1d064cdd8eca1224d5b2dadb",
        "IPY_MODEL_85e4e20102ac41c487c2bbefc54bc074",
        "IPY_MODEL_6c682faec16f455b8a3359bed0528978"
       ],
       "layout": "IPY_MODEL_9bf1da1ad86746b28e11c18aefc76493"
      }
     },
     "79407379f9804079861b3f3b7748920e": {
      "model_module": "@jupyter-widgets/controls",
      "model_module_version": "2.0.0",
      "model_name": "HTMLStyleModel",
      "state": {
       "description_width": "",
       "font_size": null,
       "text_color": null
      }
     },
     "7acf556077604f958201e0a00c3ead8d": {
      "model_module": "@jupyter-widgets/controls",
      "model_module_version": "2.0.0",
      "model_name": "HTMLModel",
      "state": {
       "layout": "IPY_MODEL_2a1a9362fd644ff5818577269f5d3b37",
       "style": "IPY_MODEL_06b4237b1f464abc84037cbf8c4fffe9",
       "value": "<h5>Backend</h5>"
      }
     },
     "85e4e20102ac41c487c2bbefc54bc074": {
      "model_module": "@jupyter-widgets/controls",
      "model_module_version": "2.0.0",
      "model_name": "HTMLModel",
      "state": {
       "layout": "IPY_MODEL_a5342879c257427591c890d79ae8c0a2",
       "style": "IPY_MODEL_0f3745f50e1a4486a86d868dd6e27f7f",
       "value": "<h5>Queue</h5>"
      }
     },
     "9bf1da1ad86746b28e11c18aefc76493": {
      "model_module": "@jupyter-widgets/base",
      "model_module_version": "2.0.0",
      "model_name": "LayoutModel",
      "state": {
       "margin": "0px 0px 0px 37px",
       "width": "600px"
      }
     },
     "a337f3dee05d4dbcbee21c76eb96bab4": {
      "model_module": "@jupyter-widgets/base",
      "model_module_version": "2.0.0",
      "model_name": "LayoutModel",
      "state": {
       "width": "95px"
      }
     },
     "a5342879c257427591c890d79ae8c0a2": {
      "model_module": "@jupyter-widgets/base",
      "model_module_version": "2.0.0",
      "model_name": "LayoutModel",
      "state": {
       "width": "70px"
      }
     },
     "c6cea62e47204e47833c2c43b47889f0": {
      "model_module": "@jupyter-widgets/base",
      "model_module_version": "2.0.0",
      "model_name": "LayoutModel",
      "state": {
       "grid_template_areas": "\n                                       \". . . . right \"\n                                        ",
       "grid_template_columns": "20% 20% 20% 20% 20%",
       "width": "100%"
      }
     },
     "c9ab72f5e4814580932359636a8dced6": {
      "model_module": "@jupyter-widgets/controls",
      "model_module_version": "2.0.0",
      "model_name": "HTMLModel",
      "state": {
       "layout": "IPY_MODEL_159aef3f6df342f9851842859d513fb2",
       "style": "IPY_MODEL_d156c47ca74447e4a41e49dbfecd10b2",
       "value": "<h5>Job ID</h5>"
      }
     },
     "cd513eccc7b2495a9c6b9336f621cd41": {
      "model_module": "@jupyter-widgets/controls",
      "model_module_version": "2.0.0",
      "model_name": "ButtonStyleModel",
      "state": {
       "font_family": null,
       "font_size": null,
       "font_style": null,
       "font_variant": null,
       "font_weight": null,
       "text_color": null,
       "text_decoration": null
      }
     },
     "d156c47ca74447e4a41e49dbfecd10b2": {
      "model_module": "@jupyter-widgets/controls",
      "model_module_version": "2.0.0",
      "model_name": "HTMLStyleModel",
      "state": {
       "description_width": "",
       "font_size": null,
       "text_color": null
      }
     },
     "e90f4c36f2e54fbf9203c40502463ccd": {
      "model_module": "@jupyter-widgets/controls",
      "model_module_version": "2.0.0",
      "model_name": "ButtonModel",
      "state": {
       "button_style": "primary",
       "description": "Clear",
       "layout": "IPY_MODEL_ff1d9b256797400c9868db7f9c3b0378",
       "style": "IPY_MODEL_cd513eccc7b2495a9c6b9336f621cd41",
       "tooltip": null
      }
     },
     "edfb8f2db67c4b9f9f4a29f6cc8978f6": {
      "model_module": "@jupyter-widgets/controls",
      "model_module_version": "2.0.0",
      "model_name": "HTMLModel",
      "state": {
       "layout": "IPY_MODEL_5614d829218f431ea84e9bc4832881e2",
       "style": "IPY_MODEL_3917e5cf4dca46e588ce49a7e5c09085",
       "value": "<p style='font-family: IBM Plex Sans, Arial, Helvetica, sans-serif; font-size: 20px; font-weight: medium;'>Circuit Properties</p>"
      }
     },
     "ff1d9b256797400c9868db7f9c3b0378": {
      "model_module": "@jupyter-widgets/base",
      "model_module_version": "2.0.0",
      "model_name": "LayoutModel",
      "state": {
       "grid_area": "right",
       "padding": "0px 0px 0px 0px",
       "width": "70px"
      }
     }
    },
    "version_major": 2,
    "version_minor": 0
   }
  }
 },
 "nbformat": 4,
 "nbformat_minor": 5
}
