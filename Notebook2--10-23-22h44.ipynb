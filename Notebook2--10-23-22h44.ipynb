{
 "cells": [
  {
   "cell_type": "code",
   "execution_count": 264,
   "id": "b8fa954f-dab1-47a8-88d8-3bc9c9132eac",
   "metadata": {
    "tags": []
   },
   "outputs": [
    {
     "name": "stdout",
     "output_type": "stream",
     "text": [
      "qiskit-imports, qiskit-runtime-service, misc-imports, and helper-functions have been loaded. \n",
      "all loaded.\n"
     ]
    }
   ],
   "source": [
    "%run -i qiskit_prelude.py\n",
    "import random\n",
    "QCirc, QInstr, QReg, CReg = QuantumCircuit, Instruction, QuantumRegister, ClassicalRegister\n",
    "print(\"all loaded.\")"
   ]
  },
  {
   "cell_type": "code",
   "execution_count": 313,
   "id": "d52daf82-2b79-4cfa-ba3c-3043314ab834",
   "metadata": {
    "tags": []
   },
   "outputs": [],
   "source": [
    "# Set how many bits we are going to use to represent X, Y, and t coordinates\n",
    "bits_x = 5\n",
    "bits_y = 5\n",
    "bits_t = 4\n",
    "\n",
    "# Set how many boxes there are:\n",
    "log2_n_boxes = 2\n",
    "n_boxes = 1 << log2_n_boxes\n",
    "\n",
    "# Convert a positive integer into bits, erroring on overflow\n",
    "def as_bits(n_orig: int, bits: int):\n",
    "    n = n_orig\n",
    "    result = []\n",
    "    for i in range(bits - 1, -1, -1):\n",
    "        power = 1 << i\n",
    "        if n >= power:\n",
    "            n -= power\n",
    "            result.append(True)\n",
    "        else:\n",
    "            result.append(False)\n",
    "    if n != 0:\n",
    "        raise RuntimeError(\"Overflow (or logic error) in as_bits.\")\n",
    "    return result\n",
    "\n",
    "assert as_bits(23, 5) == [True, False, True, True, True]"
   ]
  },
  {
   "cell_type": "code",
   "execution_count": 314,
   "id": "21304bd4-a130-45c8-9fee-982f8694cf73",
   "metadata": {
    "tags": []
   },
   "outputs": [],
   "source": [
    "@dataclass(frozen=True)\n",
    "class Box:\n",
    "    x:      int\n",
    "    y:      int\n",
    "    t:      int\n",
    "    log2_w: int # w = width (X)\n",
    "    log2_h: int # h = height (Y)\n",
    "    log2_d: int # d = duration (t)\n",
    "    \n",
    "    def volume(self) -> int:\n",
    "        return (2**self.log2_w) + (2**self.log2_h) + (2**self.log2_d)\n",
    "    \n",
    "    def get_start_as_bits(self, which: str):\n",
    "        if   which == \"X\":\n",
    "            return as_bits(self.x, bits_x)\n",
    "        elif which == \"Y\":\n",
    "            return as_bits(self.y, bits_y)\n",
    "        elif which == \"t\":\n",
    "            return as_bits(self.t, bits_t)\n",
    "        else:\n",
    "            raise RuntimeError(\"Which dimension (for start) must be X, Y, or t.\")"
   ]
  },
  {
   "cell_type": "code",
   "execution_count": 315,
   "id": "f6cb0b29-84be-4993-b931-42081de95674",
   "metadata": {
    "tags": []
   },
   "outputs": [],
   "source": [
    "@dataclass(frozen=True)\n",
    "class Shift:\n",
    "    qubit_index_a: int\n",
    "    qubit_index_b: int\n",
    "    amount_pr: float\n",
    "    \n",
    "    def ry_angle(self):\n",
    "        return 2 * asin(sqrt(n_boxes * self.amount_pr))"
   ]
  },
  {
   "cell_type": "code",
   "execution_count": 316,
   "id": "411902ba-39e9-466c-8ab8-1db078af1114",
   "metadata": {
    "tags": []
   },
   "outputs": [],
   "source": [
    "def circ_prepare_box_index(box_volumes: list[int]) -> QInstr:\n",
    "    # Set up our quantum registers\n",
    "    unweighted_binary_index = QReg(log2_n_boxes)\n",
    "    unary_index             = QReg(n_boxes)\n",
    "    index_distribution      = QReg(n_shifts)\n",
    "    index_distribution_help = QReg(n_shifts)\n",
    "    # Create a circuit object\n",
    "    qc = QuantumCircuit(\n",
    "        unweighted_binary_index, unary_index,\n",
    "        index_distribution, index_distribution_help,\n",
    "        name=\"prepare_box_index\",\n",
    "    )\n",
    "    # First, we put the unweighted_binary register into a basic, uniform superposition\n",
    "    qc.h(unweighted_binary_index)\n",
    "    # Then, we convert this into an unary index\n",
    "    qc.append(circ_binary_to_unary(n_boxes, log2_n_boxes), [*unweighted_binary_index, *unary_index])\n",
    "    # Then, we can weight the unary part (not perfectly, but nothing about this is anywhere close to perfect)\n",
    "    qc.append(circ_weight_unary(box_volumes), [*unary_index, *index_distribution, *index_distribution_help])\n",
    "    # Return the circuit as an instruction\n",
    "    return qc.to_instruction()\n",
    "\n",
    "def circ_binary_to_unary(n: int, log2_n: int) -> QInstr:\n",
    "    # Set up our quantum registers\n",
    "    binary = QReg(log2_n)\n",
    "    unary  = QReg(n)\n",
    "    # Create a circuit object\n",
    "    qc = QuantumCircuit(binary, unary, name=\"binary_to_unary\")\n",
    "    # First, we appropriately entangle the first two unary digits\n",
    "    qc.cx(binary[0], unary[1])\n",
    "    qc.x(binary[0])\n",
    "    qc.cx(binary[0], unary[0])\n",
    "    # Now, we can use a series of CSWAP gates to move the unary digits around\n",
    "    n_processed = 2\n",
    "    for i in range(1, log2_n):\n",
    "        for j in range(n_processed):\n",
    "            qc.cswap(binary[i], unary[j], unary[j + n_processed])\n",
    "        n_processed *= 2\n",
    "    # Return the circuit as an instruction\n",
    "    return qc.to_instruction()\n",
    "\n",
    "def circ_weight_unary(box_volumes: list[int]) -> QInstr:\n",
    "    # Set up our quantum registers\n",
    "    unary                   = QReg(n_boxes)\n",
    "    index_distribution      = QReg(n_shifts)\n",
    "    index_distribution_help = QReg(n_shifts)\n",
    "    # Create a circuit object\n",
    "    qc = QuantumCircuit(unary, index_distribution, index_distribution_help, name=\"weight_unary\")\n",
    "    # Perform the necessary shifts\n",
    "    for i, shift in enumerate(shifts):\n",
    "        qc.ry(shift.ry_angle(), index_distribution[i])\n",
    "        qc.ccx(unary[shift.qubit_index_b], index_distribution[i], index_distribution_help[i])\n",
    "        qc.cx(index_distribution_help[i], unary[shift.qubit_index_a])\n",
    "        qc.cx(index_distribution_help[i], unary[shift.qubit_index_b])\n",
    "    # Return the circuit as an instruction\n",
    "    return qc.to_instruction()"
   ]
  },
  {
   "cell_type": "code",
   "execution_count": 317,
   "id": "8393e45e-1929-41f3-9925-39edfb2079da",
   "metadata": {
    "tags": []
   },
   "outputs": [],
   "source": [
    "boxes = [\n",
    "    Box(2, 10, 0, 4, 4, 2),\n",
    "    Box(20, 20, 0, 2, 2, 2),\n",
    "    Box(2, 2, 4, 2, 1, 3),\n",
    "    Box(2, 4, 4, 2, 1, 3),\n",
    "]\n",
    "box_volumes = [ box.volume() for box in boxes ]\n",
    "desired_box_probabilities = [ volume / sum(box_volumes) for volume in box_volumes ]\n",
    "assert len(boxes) == n_boxes"
   ]
  },
  {
   "cell_type": "code",
   "execution_count": 318,
   "id": "dbca146e-c1f5-4408-9e0d-433cafff5dbd",
   "metadata": {
    "tags": []
   },
   "outputs": [
    {
     "data": {
      "text/plain": [
       "[Shift(qubit_index_a=0, qubit_index_b=1, amount_pr=0.15789473684210525)]"
      ]
     },
     "execution_count": 318,
     "metadata": {},
     "output_type": "execute_result"
    }
   ],
   "source": [
    "# First, we need to preprocess the boxes, also giving us n_shifts\n",
    "no_shift_threshold = 0.08\n",
    "shifts = []\n",
    "required_mean = 1 / n_boxes\n",
    "box_indices = list(range(len(boxes)))\n",
    "remaining_box_indices = box_indices[:]\n",
    "random.shuffle(box_indices)\n",
    "for i in box_indices:\n",
    "    if i not in remaining_box_indices:\n",
    "        continue\n",
    "    vol = desired_box_probabilities[i]\n",
    "    best_vol_diff, best_j = float('inf'), None\n",
    "    for j in remaining_box_indices:\n",
    "        if j == i:\n",
    "            continue\n",
    "        j_vol = desired_box_probabilities[j]\n",
    "        vol_mean = (j_vol + vol) / 2\n",
    "        vol_diff = abs(vol_mean - required_mean)\n",
    "        if vol_diff < best_vol_diff:\n",
    "            best_vol_diff = vol_diff\n",
    "            best_j = j\n",
    "    best_vol = desired_box_probabilities[best_j]\n",
    "    if best_vol > vol:\n",
    "        chosen_hi = best_j\n",
    "        chosen_lo = i\n",
    "        shift_amount_p = ((best_vol - required_mean) + (required_mean - vol)) / 2\n",
    "    else:\n",
    "        chosen_hi = i\n",
    "        chosen_lo = best_j\n",
    "        shift_amount_p = ((vol - required_mean) + (required_mean - best_vol)) / 2\n",
    "    assert desired_box_probabilities[chosen_hi] >= desired_box_probabilities[chosen_lo]\n",
    "    assert shift_amount_p >= 0\n",
    "    if shift_amount_p > no_shift_threshold:      # <- Checks if we even need to shift\n",
    "        if abs(n_boxes * shift_amount_p) <= 1.0: # <- Checks if we can shift\n",
    "            shifts.append(Shift(chosen_hi, chosen_lo, shift_amount_p))\n",
    "    remaining_box_indices.pop(remaining_box_indices.index(i))\n",
    "    remaining_box_indices.pop(remaining_box_indices.index(best_j))\n",
    "n_shifts = len(shifts)\n",
    "shifts"
   ]
  },
  {
   "cell_type": "code",
   "execution_count": 319,
   "id": "167e3384-63f5-4e52-8eb9-c4a3ff238383",
   "metadata": {
    "tags": []
   },
   "outputs": [],
   "source": [
    "sizes_by_dim = {\n",
    "    \"X\": bits_x,\n",
    "    \"Y\": bits_y,\n",
    "    \"t\": bits_t,\n",
    "}"
   ]
  },
  {
   "cell_type": "code",
   "execution_count": 324,
   "id": "b8e5b9bb-fcd8-4859-aa77-a6ef845cf095",
   "metadata": {},
   "outputs": [],
   "source": [
    "def circ_index_to_start() -> QInstr:\n",
    "    # Quantum registers\n",
    "    unary_index             = QReg(n_boxes     , name=\"unary_index\")\n",
    "    x_start                 = QReg(bits_x      , name=\"x_start\")\n",
    "    y_start                 = QReg(bits_y      , name=\"y_start\")\n",
    "    t_start                 = QReg(bits_t      , name=\"t_start\")\n",
    "    # Make dictionaries\n",
    "    starts_by_dim = {\n",
    "        \"X\": x_start,\n",
    "        \"Y\": y_start,\n",
    "        \"t\": t_start,\n",
    "    }\n",
    "    # Create circuit object\n",
    "    qc = QuantumCircuit(unary_index, x_start, y_start, t_start, name=\"index_to_start\")\n",
    "    # Actual operation\n",
    "    for i in range(n_boxes):\n",
    "        for dim in \"XYt\":\n",
    "            bits = boxes[i].get_start_as_bits(dim)\n",
    "            for j in range(sizes_by_dim[dim]):\n",
    "                if bits[j]:\n",
    "                    qc.cx(unary_index[i], starts_by_dim[dim][j])\n",
    "    # Return instruction form\n",
    "    return qc.to_instruction()\n",
    "\n",
    "def circ_index_to_offset() -> QInstr:\n",
    "    # Quantum registers\n",
    "    unary_index             = QReg(n_boxes     , name=\"unary_index\")\n",
    "    x_offset                = QReg(bits_x      , name=\"x_start\")\n",
    "    y_offset                = QReg(bits_y      , name=\"y_start\")\n",
    "    t_offset                = QReg(bits_t      , name=\"t_start\")\n",
    "    # Make dictionaries\n",
    "    offsets_by_dim = {\n",
    "        \"X\": x_offset,\n",
    "        \"Y\": y_offset,\n",
    "        \"t\": t_offset,\n",
    "    }\n",
    "    # Create circuit object\n",
    "    qc = QuantumCircuit(unary_index, x_offset, y_offset, t_offset, name=\"index_to_offset\")\n",
    "    # Actual operation\n",
    "    for i in range(n_boxes):\n",
    "        for dim in \"XYt\":\n",
    "            ... # TODO FIXME\n",
    "    # Return instruction form\n",
    "    return qc.to_instruction()\n",
    "\n",
    "def circ_sample_box() -> QInstr:\n",
    "    # Quantum registers\n",
    "    x_start                 = QReg(bits_x      , name=\"x_start\")\n",
    "    x_offset                = QReg(bits_x      , name=\"x_offset\")\n",
    "    y_start                 = QReg(bits_y      , name=\"y_start\")\n",
    "    y_offset                = QReg(bits_y      , name=\"y_offset\")\n",
    "    t_start                 = QReg(bits_t      , name=\"t_start\")\n",
    "    t_offset                = QReg(bits_t      , name=\"t_offset\")\n",
    "    addition_help           = QReg(3           , name=\"addition_help\")\n",
    "    # Dictionaries\n",
    "    starts_by_dim = {\n",
    "        \"X\": x_start,\n",
    "        \"Y\": y_start,\n",
    "        \"t\": t_start,\n",
    "    }\n",
    "    offsets_by_dim = {\n",
    "        \"X\": x_offset,\n",
    "        \"Y\": y_offset,\n",
    "        \"t\": t_offset,\n",
    "    }\n",
    "    # Create circuit object\n",
    "    qc = QuantumCircuit(\n",
    "        x_start, x_offset,\n",
    "        y_start, y_offset,\n",
    "        t_start, t_offset,\n",
    "        addition_help,\n",
    "        name=\"sample_box\",\n",
    "    )\n",
    "    # Operations (additions in this case)\n",
    "    for dim_i, dim in enumerate(\"XYt\"):\n",
    "        qc.append(CDKMRippleCarryAdder(sizes_by_dim[dim], kind=\"fixed\"), [\n",
    "            *starts_by_dim[dim], *offsets_by_dim[dim], addition_help[dim_i],\n",
    "        ])\n",
    "    # Return instruction form\n",
    "    return qc.to_instruction()"
   ]
  },
  {
   "cell_type": "code",
   "execution_count": 341,
   "id": "377a5dfa-9338-4987-bb45-5f61956ff6c1",
   "metadata": {
    "tags": []
   },
   "outputs": [
    {
     "name": "stdout",
     "output_type": "stream",
     "text": [
      "Requires 39 qubits for each parallel run.\n"
     ]
    }
   ],
   "source": [
    "# Now, for the overall quantum circuit for a single timeslice\n",
    "def circ_main_once(just_prepare_box_index: bool = False) -> QInstr | int:\n",
    "    # Let's first make all the necessary registers\n",
    "    # First the quantum ones\n",
    "    unweighted_binary_index = QReg(log2_n_boxes, name=\"unweighted_binary_index\")\n",
    "    unary_index             = QReg(n_boxes     , name=\"unary_index\")\n",
    "    index_distribution      = QReg(n_shifts    , name=\"index_distribution\")\n",
    "    index_distribution_help = QReg(n_shifts    , name=\"index_distribution_help\")\n",
    "    x_start                 = QReg(bits_x      , name=\"x_start\")\n",
    "    x_offset                = QReg(bits_x      , name=\"x_offset\")\n",
    "    y_start                 = QReg(bits_y      , name=\"y_start\")\n",
    "    y_offset                = QReg(bits_y      , name=\"y_offset\")\n",
    "    t_start                 = QReg(bits_t      , name=\"t_start\")\n",
    "    t_offset                = QReg(bits_t      , name=\"t_offset\")\n",
    "    addition_help           = QReg(3           , name=\"addition_help\")\n",
    "    # Create a circuit object\n",
    "    if just_prepare_box_index:\n",
    "        qc = QuantumCircuit(\n",
    "            unweighted_binary_index,\n",
    "            unary_index,\n",
    "            index_distribution,\n",
    "            index_distribution_help,\n",
    "            name=\"main_once\",\n",
    "        )\n",
    "    else:\n",
    "        qc = QuantumCircuit(\n",
    "            unweighted_binary_index,\n",
    "            unary_index,\n",
    "            index_distribution,\n",
    "            index_distribution_help,\n",
    "            x_start, x_offset,\n",
    "            y_start, y_offset,\n",
    "            t_start, t_offset,\n",
    "            addition_help,\n",
    "            name=\"main_once\",\n",
    "        )\n",
    "    # There are four main steps:\n",
    "    # 1. Prepare a weighted superposition of unary box index states\n",
    "    qc.append(circ_prepare_box_index([ box.volume() for box in boxes ]), [\n",
    "        *unweighted_binary_index, *unary_index,\n",
    "        *index_distribution, *index_distribution_help,\n",
    "    ])\n",
    "    if just_prepare_box_index:\n",
    "        return qc.to_instruction()\n",
    "    # 2. Transform this into a superposition of possible starting points\n",
    "    qc.append(circ_index_to_start(), [*unary_index, *x_start, *y_start, *t_start])\n",
    "    # 3. Transform this into a superposition of offsets\n",
    "    qc.append(circ_index_to_offset(), [*unary_index, *x_offset, *y_offset, *t_offset])\n",
    "    # 4. Add the starting points to the offsets, arriving at a superposition of points\n",
    "    qc.append(circ_sample_box(), [\n",
    "        *x_start, *x_offset,\n",
    "        *y_start, *y_offset,\n",
    "        *t_start, *t_offset,\n",
    "        *addition_help,\n",
    "    ])\n",
    "    # Return the circuit as an instruction\n",
    "    return qc.to_instruction()\n",
    "\n",
    "qubits_per_main_once_run = circ_main_once().num_qubits\n",
    "print(f\"Requires {qubits_per_main_once_run} qubits for each parallel run.\")"
   ]
  },
  {
   "cell_type": "code",
   "execution_count": 342,
   "id": "62465b00-20cb-44e2-8b58-a8bca6634905",
   "metadata": {
    "tags": []
   },
   "outputs": [],
   "source": [
    "def qc_main():\n",
    "    just_prepare_box_index = False\n",
    "    main_once_fst = circ_main_once(just_prepare_box_index=just_prepare_box_index)\n",
    "    main_once_snd = circ_main_once(just_prepare_box_index=just_prepare_box_index)\n",
    "    q_fst = QReg(qubits_per_main_once_run)\n",
    "    q_snd = QReg(qubits_per_main_once_run)\n",
    "    if just_prepare_box_index:\n",
    "        fst_unary_out = CReg(n_boxes, name=\"fst_unary_out\")\n",
    "        snd_unary_out = CReg(n_boxes, name=\"snd_unary_out\")\n",
    "        qc = QuantumCircuit(\n",
    "            q_fst, q_snd,\n",
    "            fst_unary_out, snd_unary_out,\n",
    "            name=\"main\",\n",
    "        )\n",
    "    else:\n",
    "        fst_x_out                   = CReg(bits_x, name=\"fst_x_out\")\n",
    "        fst_y_out                   = CReg(bits_y, name=\"fst_y_out\")\n",
    "        fst_t_out                   = CReg(bits_t, name=\"fst_t_out\")\n",
    "        snd_x_out                   = CReg(bits_x, name=\"snd_x_out\")\n",
    "        snd_y_out                   = CReg(bits_y, name=\"snd_y_out\")\n",
    "        snd_t_out                   = CReg(bits_t, name=\"snd_t_out\")\n",
    "        qc = QuantumCircuit(\n",
    "            q_fst, q_snd,\n",
    "            fst_x_out, fst_y_out, fst_t_out,\n",
    "            snd_x_out, snd_y_out, snd_t_out,\n",
    "            name=\"main\",\n",
    "        )\n",
    "    qc.append(main_once_fst, q_fst)\n",
    "    qc.append(main_once_snd, q_snd)\n",
    "    if just_prepare_box_index:\n",
    "        qc.measure(q_fst[log2_n_boxes:(log2_n_boxes+n_boxes)], fst_unary_out)\n",
    "        qc.measure(q_snd[log2_n_boxes:(log2_n_boxes+n_boxes)], snd_unary_out)\n",
    "    else:\n",
    "        raise RuntimeError(\"TODO\")\n",
    "    return qc"
   ]
  },
  {
   "cell_type": "code",
   "execution_count": 343,
   "id": "2b98837b-b64e-4070-a764-f4c2958d94d4",
   "metadata": {
    "tags": []
   },
   "outputs": [
    {
     "ename": "RuntimeError",
     "evalue": "TODO",
     "output_type": "error",
     "traceback": [
      "\u001b[0;31m---------------------------------------------------------------------------\u001b[0m",
      "\u001b[0;31mRuntimeError\u001b[0m                              Traceback (most recent call last)",
      "Cell \u001b[0;32mIn[343], line 1\u001b[0m\n\u001b[0;32m----> 1\u001b[0m main \u001b[38;5;241m=\u001b[39m \u001b[43mqc_main\u001b[49m\u001b[43m(\u001b[49m\u001b[43m)\u001b[49m\n\u001b[1;32m      2\u001b[0m main\u001b[38;5;241m.\u001b[39mdecompose()\u001b[38;5;241m.\u001b[39mdraw()\n\u001b[1;32m      3\u001b[0m \u001b[38;5;66;03m#simulate_quantum_circuit(main, shots=16384)\u001b[39;00m\n",
      "Cell \u001b[0;32mIn[342], line 34\u001b[0m, in \u001b[0;36mqc_main\u001b[0;34m()\u001b[0m\n\u001b[1;32m     32\u001b[0m     qc\u001b[38;5;241m.\u001b[39mmeasure(q_snd[log2_n_boxes:(log2_n_boxes\u001b[38;5;241m+\u001b[39mn_boxes)], snd_unary_out)\n\u001b[1;32m     33\u001b[0m \u001b[38;5;28;01melse\u001b[39;00m:\n\u001b[0;32m---> 34\u001b[0m     \u001b[38;5;28;01mraise\u001b[39;00m \u001b[38;5;167;01mRuntimeError\u001b[39;00m(\u001b[38;5;124m\"\u001b[39m\u001b[38;5;124mTODO\u001b[39m\u001b[38;5;124m\"\u001b[39m)\n\u001b[1;32m     35\u001b[0m \u001b[38;5;28;01mreturn\u001b[39;00m qc\n",
      "\u001b[0;31mRuntimeError\u001b[0m: TODO"
     ]
    }
   ],
   "source": [
    "main = qc_main()\n",
    "main.decompose().draw()\n",
    "#simulate_quantum_circuit(main, shots=16384)"
   ]
  }
 ],
 "metadata": {
  "kernelspec": {
   "display_name": "Python 3 (ipykernel)",
   "language": "python",
   "name": "python3"
  },
  "language_info": {
   "codemirror_mode": {
    "name": "ipython",
    "version": 3
   },
   "file_extension": ".py",
   "mimetype": "text/x-python",
   "name": "python",
   "nbconvert_exporter": "python",
   "pygments_lexer": "ipython3",
   "version": "3.10.8"
  },
  "widgets": {
   "application/vnd.jupyter.widget-state+json": {
    "state": {
     "08e47e03fe9641c0a139515e6e4bcea3": {
      "model_module": "@jupyter-widgets/controls",
      "model_module_version": "2.0.0",
      "model_name": "HTMLModel",
      "state": {
       "layout": "IPY_MODEL_b206914d161c4a48a3a9063ac481f4ca",
       "style": "IPY_MODEL_3122eee847f74db282e01461b38bfb70",
       "value": "<h5>Job ID</h5>"
      }
     },
     "181d65e80fce4e51926bcb41e28a9e57": {
      "model_module": "@jupyter-widgets/base",
      "model_module_version": "2.0.0",
      "model_name": "LayoutModel",
      "state": {
       "width": "95px"
      }
     },
     "27dbb4d2a74c48f4a1e08fc9987dcfcc": {
      "model_module": "@jupyter-widgets/base",
      "model_module_version": "2.0.0",
      "model_name": "LayoutModel",
      "state": {
       "width": "145px"
      }
     },
     "2ac7b00e61bd4cb39c411f29d51165d2": {
      "model_module": "@jupyter-widgets/base",
      "model_module_version": "2.0.0",
      "model_name": "LayoutModel",
      "state": {
       "grid_template_areas": "\n                                       \". . . . right \"\n                                        ",
       "grid_template_columns": "20% 20% 20% 20% 20%",
       "width": "100%"
      }
     },
     "2feaf2381bb94b498b083c6b97f90643": {
      "model_module": "@jupyter-widgets/controls",
      "model_module_version": "2.0.0",
      "model_name": "HTMLModel",
      "state": {
       "layout": "IPY_MODEL_3bebb520c7aa4f9dac777d9d1d813c55",
       "style": "IPY_MODEL_9784bf19f1024372b36254ec5adbb191",
       "value": "<h5>Message</h5>"
      }
     },
     "3122eee847f74db282e01461b38bfb70": {
      "model_module": "@jupyter-widgets/controls",
      "model_module_version": "2.0.0",
      "model_name": "HTMLStyleModel",
      "state": {
       "description_width": "",
       "font_size": null,
       "text_color": null
      }
     },
     "3bebb520c7aa4f9dac777d9d1d813c55": {
      "model_module": "@jupyter-widgets/base",
      "model_module_version": "2.0.0",
      "model_name": "LayoutModel",
      "state": {}
     },
     "4cf4cf2d6f2641968a6be3f561a2e697": {
      "model_module": "@jupyter-widgets/base",
      "model_module_version": "2.0.0",
      "model_name": "LayoutModel",
      "state": {
       "margin": "0px 0px 0px 37px",
       "width": "600px"
      }
     },
     "4ff4d0928a1d4bab8c502a9a8faf8b53": {
      "model_module": "@jupyter-widgets/controls",
      "model_module_version": "2.0.0",
      "model_name": "ButtonStyleModel",
      "state": {
       "font_family": null,
       "font_size": null,
       "font_style": null,
       "font_variant": null,
       "font_weight": null,
       "text_color": null,
       "text_decoration": null
      }
     },
     "5bde839b82d4410aab05dc5b6b8069e6": {
      "model_module": "@jupyter-widgets/controls",
      "model_module_version": "2.0.0",
      "model_name": "HTMLModel",
      "state": {
       "layout": "IPY_MODEL_27dbb4d2a74c48f4a1e08fc9987dcfcc",
       "style": "IPY_MODEL_f6ceb0e656914339bf3253c1889ee326",
       "value": "<h5>Backend</h5>"
      }
     },
     "5fd7a043f0184085a114a85cbe3c2464": {
      "model_module": "@jupyter-widgets/base",
      "model_module_version": "2.0.0",
      "model_name": "LayoutModel",
      "state": {
       "grid_area": "right",
       "padding": "0px 0px 0px 0px",
       "width": "70px"
      }
     },
     "65247df271684d3cb925dfd564019bb7": {
      "model_module": "@jupyter-widgets/controls",
      "model_module_version": "2.0.0",
      "model_name": "HTMLStyleModel",
      "state": {
       "description_width": "",
       "font_size": null,
       "text_color": null
      }
     },
     "671329820d4d4850bfce20a75fe5a40c": {
      "model_module": "@jupyter-widgets/base",
      "model_module_version": "2.0.0",
      "model_name": "LayoutModel",
      "state": {
       "margin": "0px 0px 10px 0px"
      }
     },
     "6db90dc6e18c4096bb724140ecad99b3": {
      "model_module": "@jupyter-widgets/controls",
      "model_module_version": "2.0.0",
      "model_name": "HTMLModel",
      "state": {
       "layout": "IPY_MODEL_181d65e80fce4e51926bcb41e28a9e57",
       "style": "IPY_MODEL_65247df271684d3cb925dfd564019bb7",
       "value": "<h5>Status</h5>"
      }
     },
     "7583d5eb3e224f85b4dafbdb7c9b193d": {
      "model_module": "@jupyter-widgets/controls",
      "model_module_version": "2.0.0",
      "model_name": "GridBoxModel",
      "state": {
       "children": [
        "IPY_MODEL_81ce338a2e6d4a2f875499a53432e3fc"
       ],
       "layout": "IPY_MODEL_2ac7b00e61bd4cb39c411f29d51165d2"
      }
     },
     "7b08f95013884e84b3f86f00033d03cb": {
      "model_module": "@jupyter-widgets/controls",
      "model_module_version": "2.0.0",
      "model_name": "HTMLStyleModel",
      "state": {
       "description_width": "",
       "font_size": null,
       "text_color": null
      }
     },
     "81ce338a2e6d4a2f875499a53432e3fc": {
      "model_module": "@jupyter-widgets/controls",
      "model_module_version": "2.0.0",
      "model_name": "ButtonModel",
      "state": {
       "button_style": "primary",
       "description": "Clear",
       "layout": "IPY_MODEL_5fd7a043f0184085a114a85cbe3c2464",
       "style": "IPY_MODEL_4ff4d0928a1d4bab8c502a9a8faf8b53",
       "tooltip": null
      }
     },
     "9784bf19f1024372b36254ec5adbb191": {
      "model_module": "@jupyter-widgets/controls",
      "model_module_version": "2.0.0",
      "model_name": "HTMLStyleModel",
      "state": {
       "description_width": "",
       "font_size": null,
       "text_color": null
      }
     },
     "b206914d161c4a48a3a9063ac481f4ca": {
      "model_module": "@jupyter-widgets/base",
      "model_module_version": "2.0.0",
      "model_name": "LayoutModel",
      "state": {
       "width": "190px"
      }
     },
     "e700e441ed944ea1aab00b00e0c39cc3": {
      "model_module": "@jupyter-widgets/controls",
      "model_module_version": "2.0.0",
      "model_name": "HTMLModel",
      "state": {
       "layout": "IPY_MODEL_671329820d4d4850bfce20a75fe5a40c",
       "style": "IPY_MODEL_7b08f95013884e84b3f86f00033d03cb",
       "value": "<p style='font-family: IBM Plex Sans, Arial, Helvetica, sans-serif; font-size: 20px; font-weight: medium;'>Circuit Properties</p>"
      }
     },
     "e84a8c74b83b4b39bb886d78923608b5": {
      "model_module": "@jupyter-widgets/controls",
      "model_module_version": "2.0.0",
      "model_name": "HTMLStyleModel",
      "state": {
       "description_width": "",
       "font_size": null,
       "text_color": null
      }
     },
     "e93b6b767dab48909697819531d48217": {
      "model_module": "@jupyter-widgets/controls",
      "model_module_version": "2.0.0",
      "model_name": "HTMLModel",
      "state": {
       "layout": "IPY_MODEL_ea6748804fc142c6a722704ea21cf12e",
       "style": "IPY_MODEL_e84a8c74b83b4b39bb886d78923608b5",
       "value": "<h5>Queue</h5>"
      }
     },
     "ea6748804fc142c6a722704ea21cf12e": {
      "model_module": "@jupyter-widgets/base",
      "model_module_version": "2.0.0",
      "model_name": "LayoutModel",
      "state": {
       "width": "70px"
      }
     },
     "f1b2e22ddd544fbfbd5c6e813e2eb4fb": {
      "model_module": "@jupyter-widgets/controls",
      "model_module_version": "2.0.0",
      "model_name": "HBoxModel",
      "state": {
       "children": [
        "IPY_MODEL_08e47e03fe9641c0a139515e6e4bcea3",
        "IPY_MODEL_5bde839b82d4410aab05dc5b6b8069e6",
        "IPY_MODEL_6db90dc6e18c4096bb724140ecad99b3",
        "IPY_MODEL_e93b6b767dab48909697819531d48217",
        "IPY_MODEL_2feaf2381bb94b498b083c6b97f90643"
       ],
       "layout": "IPY_MODEL_4cf4cf2d6f2641968a6be3f561a2e697"
      }
     },
     "f6ceb0e656914339bf3253c1889ee326": {
      "model_module": "@jupyter-widgets/controls",
      "model_module_version": "2.0.0",
      "model_name": "HTMLStyleModel",
      "state": {
       "description_width": "",
       "font_size": null,
       "text_color": null
      }
     }
    },
    "version_major": 2,
    "version_minor": 0
   }
  }
 },
 "nbformat": 4,
 "nbformat_minor": 5
}
