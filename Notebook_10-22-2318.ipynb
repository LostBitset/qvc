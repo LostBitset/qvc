{
 "cells": [
  {
   "cell_type": "code",
   "execution_count": 27,
   "id": "a4eda3b7-68d3-4362-9ef2-9ea048bf3d17",
   "metadata": {
    "tags": []
   },
   "outputs": [
    {
     "name": "stdout",
     "output_type": "stream",
     "text": [
      "qiskit-imports, qiskit-runtime-service, misc-imports, and helper-functions have been loaded. \n"
     ]
    }
   ],
   "source": [
    "%run -i qiskit_prelude.py\n",
    "QReg, CReg = QuantumRegister, ClassicalRegister"
   ]
  },
  {
   "cell_type": "code",
   "execution_count": 96,
   "id": "f775a469-a125-4e46-b0e6-a15a98c2ce66",
   "metadata": {
    "tags": []
   },
   "outputs": [],
   "source": [
    "# Set how many bits we are going to use to represent X, Y, and t coordinates\n",
    "bits_x = 5\n",
    "bits_y = 5\n",
    "bits_t = 4\n",
    "\n",
    "# Convert a positive integer into bits, erroring on overflow\n",
    "def as_bits(n_orig: int, bits: int):\n",
    "    n = n_orig\n",
    "    result = []\n",
    "\n",
    "as_bits(23, 5)"
   ]
  },
  {
   "cell_type": "code",
   "execution_count": 89,
   "id": "644ed466-7a25-49d2-b994-3aeb1acaf9f0",
   "metadata": {
    "tags": []
   },
   "outputs": [],
   "source": [
    "@dataclass(frozen=True)\n",
    "class SpecialAabb:\n",
    "    x:      int\n",
    "    y:      int\n",
    "    t:      int\n",
    "    log2_w: int # w = width (X)\n",
    "    log2_h: int # h = height (Y)\n",
    "    log2_d: int # d = duration (t)\n",
    "    \n",
    "    def volume(self) -> int:\n",
    "        return (2**self.log2_w) + (2**self.log2_h) + (2**self.log2_d)\n",
    "    \n",
    "    def get_start_as_bits(self, which: str):\n",
    "        if   which == \"X\":\n",
    "            return as_bits(self.x, bits_x)\n",
    "        elif which == \"Y\":\n",
    "            return as_bits(self.y, bits_y)\n",
    "        elif which == \"t\":\n",
    "            return as_bits(self.t, bits_z)\n",
    "        else:\n",
    "            raise RuntimeError(\"Which dimension (for start) must be X, Y, or t.\")"
   ]
  },
  {
   "cell_type": "code",
   "execution_count": 97,
   "id": "bbba3565-30c3-47e8-8c26-2b5fdbcb10b1",
   "metadata": {
    "tags": []
   },
   "outputs": [],
   "source": [
    "def prepare_index_unweighted_state(qc: QuantumCircuit, q_aabb_index_u: QReg):\n",
    "    # We need to prepare a superposition of every possible state with equal amplitude\n",
    "    # This is really easy, we can just apply Hadamard gates to every qubit\n",
    "    # No, the other steps are not nearly this simple\n",
    "    qc.h(q_aabb_index_u)\n",
    "\n",
    "def prepare_index_helpers(qc: QuantumCircuit, q_aabb_index_u: QReg, q_index_help: QReg, inverse: bool = False):\n",
    "    ...\n",
    "\n",
    "def prepare_index_state(qc: QuantumCircuit, q_index_help: QReg, q_aabb_index: QReg, aabbs: list[SpecialAabb]):\n",
    "    ...\n",
    "\n",
    "def prepare_dimension_state(qc: QuantumCircuit, which: str, q_start: QReg, q_offset: QReg, q_aabb_index: QReg, aabbs: list[SpecialAabb]):\n",
    "    ...\n",
    "\n",
    "def add_dimension_offset(qc: QuantumCircuit, q_start: QReg, q_offset: QReg):\n",
    "    ..."
   ]
  },
  {
   "cell_type": "code",
   "execution_count": 77,
   "id": "001750b2-e951-4f5f-8ab5-dd86658cfa03",
   "metadata": {},
   "outputs": [
    {
     "name": "stdout",
     "output_type": "stream",
     "text": [
      "[info] n_prepare_index_state needed more qubits.\n"
     ]
    },
    {
     "data": {
      "text/plain": [
       "(42, 126)"
      ]
     },
     "execution_count": 77,
     "metadata": {},
     "output_type": "execute_result"
    }
   ],
   "source": [
    "def get_aabb_state_qreg_size(len_aabbs: int, print_which_is_greater: bool = False) -> int:\n",
    "    # Calculate how many bits are needed to specify an AABB index\n",
    "    log2_n_aabbs = int(log2(len_aabbs))\n",
    "    if (2 ** log2_n_aabbs) != len_aabbs:\n",
    "        raise RuntimeError(\"The number of AABBs must be a power of two.\")\n",
    "    # Get the number of qubits needed before and during AABB index preperation\n",
    "    n_prepare_index_state = (2 * log2_n_aabbs) + len_aabbs\n",
    "    # Get the number of qubits needed after\n",
    "    n_after = (2 * (log2_n_aabbs + bits_x + bits_y + bits_t)) + 3\n",
    "    # If we're supposed to, print which one was higher\n",
    "    if print_which_is_greater:\n",
    "        if n_prepare_index_state > n_after:\n",
    "            print(\"[info] n_prepare_index_state needed more qubits.\")\n",
    "        else:\n",
    "            print(\"[info] n_after needed more qubits\")\n",
    "    # Return whichever is higher\n",
    "    return max(n_prepare_index_state, n_after)\n",
    "\n",
    "state_qreg_size_for_32_aabbs = get_aabb_state_qreg_size(32, True)\n",
    "state_qreg_size_for_32_aabbs, 3 * state_qreg_size_for_32_aabbs"
   ]
  },
  {
   "cell_type": "code",
   "execution_count": 84,
   "id": "57c4f7e7-0ba5-40e6-a6dc-f9a81b3bf7ae",
   "metadata": {},
   "outputs": [],
   "source": [
    "def prepare_aabb_state(qc: QuantumCircuit, qreg: QReg, aabbs: list[SpecialAabb]) -> (QReg, QReg, QReg):\n",
    "    # Calculate how many bits are needed to specify an AABB index\n",
    "    log2_n_aabbs = int(log2(len(aabbs)))\n",
    "    if (2 ** log2_n_aabbs) != len(aabbs):\n",
    "        raise RuntimeError(\"The number of AABBs must be a power of two.\")\n",
    "    # Define which qubits in qreg do what\n",
    "    # Before and during AABB index preperation, we have:\n",
    "    # [ log2_n_aabbs ] - AABB Index (Unweighted!)\n",
    "    # [ log2_n_aabbs ] - AABB Index\n",
    "    # [ len(aabbs)   ] - AABB Index Helper\n",
    "    # After that, the AABB Index Helper qubits are reset to their original |0> state\n",
    "    # So we then have:\n",
    "    # [ log2_n_aabbs ] - AABB Index (Unweighted!)\n",
    "    # [ log2_n_aabbs ] - AABB Index\n",
    "    # [ bits_x ]       - X start\n",
    "    # [ bits_x ]       - X offset\n",
    "    # [ bits_y ]       - Y start\n",
    "    # [ bits_y ]       - Y offset\n",
    "    # [ bits_t ]       - t start\n",
    "    # [ bits_t ]       - t offset\n",
    "    # [ 3 ]            - Addition Helpers\n",
    "    i = 0\n",
    "    q_aabb_index_u = qreg[i:(i:=i+ log2_n_aabbs )]\n",
    "    q_aabb_index   = qreg[i:(i:=i+ log2_n_aabbs )]\n",
    "    i_switchpoint = i\n",
    "    q_index_help   = qreg[i:(i:=i+ len(aabbs)   )]\n",
    "    i = i_switchpoint\n",
    "    q_x_start      = qreg[i:(i:=i+ bits_x       )]\n",
    "    q_x_offset     = qreg[i:(i:=i+ bits_x       )]\n",
    "    q_y_start      = qreg[i:(i:=i+ bits_y       )]\n",
    "    q_y_offset     = qreg[i:(i:=i+ bits_y       )]\n",
    "    q_t_start      = qreg[i:(i:=i+ bits_t       )]\n",
    "    q_t_offset     = qreg[i:(i:=i+ bits_t       )]\n",
    "    q_add_help     = qreg[i:(i:=i+ 3            )]\n",
    "    # Now, we need to perform all of the necessary quantum operations\n",
    "    prepare_index_unweighted_state( qc, q_aabb_index_u )\n",
    "    prepare_index_helpers(          qc, q_aabb_index_u, q_index_help )\n",
    "    prepare_index_state(            qc,                 q_index_help, q_aabb_index, aabbs )\n",
    "    prepare_index_helpers(          qc, q_aabb_index_u, q_index_help, inverse=True )\n",
    "    dimensions = (\n",
    "        (\"X\", q_x_start, q_x_offset),\n",
    "        (\"Y\", q_y_start, q_y_offset),\n",
    "        (\"t\", q_t_start, q_t_offset),\n",
    "    )\n",
    "    for (which, q_start, q_offset) in dimensions:\n",
    "        prepare_dimension_state( qc, which, q_start, q_offset, q_aabb_index, aabbs )\n",
    "        add_dimension_offset(    qc,        q_start, q_offset                      )\n",
    "    # Return the quantum registers associated with X, Y, and t\n",
    "    return q_x_offset, q_y_offset, q_t_offset"
   ]
  }
 ],
 "metadata": {
  "kernelspec": {
   "display_name": "Python 3 (ipykernel)",
   "language": "python",
   "name": "python3"
  },
  "language_info": {
   "codemirror_mode": {
    "name": "ipython",
    "version": 3
   },
   "file_extension": ".py",
   "mimetype": "text/x-python",
   "name": "python",
   "nbconvert_exporter": "python",
   "pygments_lexer": "ipython3",
   "version": "3.10.8"
  },
  "widgets": {
   "application/vnd.jupyter.widget-state+json": {
    "state": {
     "1bd802c3943f4a648662afddd9ba359f": {
      "model_module": "@jupyter-widgets/controls",
      "model_module_version": "2.0.0",
      "model_name": "HTMLModel",
      "state": {
       "layout": "IPY_MODEL_fd881884f7f146508bf62f30784bd030",
       "style": "IPY_MODEL_3f11016b3c81405295f995a676400119",
       "value": "<h5>Queue</h5>"
      }
     },
     "1cdc9fdfa9ec46c29863ec4a3ab82d5b": {
      "model_module": "@jupyter-widgets/controls",
      "model_module_version": "2.0.0",
      "model_name": "GridBoxModel",
      "state": {
       "children": [
        "IPY_MODEL_3d7d882922264230aa729cfe4ef31a08"
       ],
       "layout": "IPY_MODEL_b6c22ecf1d66404598c6e7ded1b7ceb7"
      }
     },
     "20a0203d47e04349b34081db15e3d8a4": {
      "model_module": "@jupyter-widgets/controls",
      "model_module_version": "2.0.0",
      "model_name": "HTMLStyleModel",
      "state": {
       "description_width": "",
       "font_size": null,
       "text_color": null
      }
     },
     "229bc63a5c01436f9c725d968137d16b": {
      "model_module": "@jupyter-widgets/base",
      "model_module_version": "2.0.0",
      "model_name": "LayoutModel",
      "state": {
       "margin": "0px 0px 10px 0px"
      }
     },
     "28247d7b834b4fcfa846f1f5f337a8cb": {
      "model_module": "@jupyter-widgets/base",
      "model_module_version": "2.0.0",
      "model_name": "LayoutModel",
      "state": {
       "margin": "0px 0px 0px 37px",
       "width": "600px"
      }
     },
     "2a05730735ce493282771e5f37f36c9d": {
      "model_module": "@jupyter-widgets/controls",
      "model_module_version": "2.0.0",
      "model_name": "HTMLModel",
      "state": {
       "layout": "IPY_MODEL_a108432b9ed1466e8794ea735b26a857",
       "style": "IPY_MODEL_20a0203d47e04349b34081db15e3d8a4",
       "value": "<h5>Job ID</h5>"
      }
     },
     "341e3cd01fe04744b9cdeecc9ab7a199": {
      "model_module": "@jupyter-widgets/controls",
      "model_module_version": "2.0.0",
      "model_name": "HTMLModel",
      "state": {
       "layout": "IPY_MODEL_d279cd5f345d473c83d716706a5f1881",
       "style": "IPY_MODEL_5c110979ffe5444992d4740a5752b3c1",
       "value": "<h5>Status</h5>"
      }
     },
     "3c37e0847af5460aa344a1e104a5a492": {
      "model_module": "@jupyter-widgets/controls",
      "model_module_version": "2.0.0",
      "model_name": "HTMLStyleModel",
      "state": {
       "description_width": "",
       "font_size": null,
       "text_color": null
      }
     },
     "3d7d882922264230aa729cfe4ef31a08": {
      "model_module": "@jupyter-widgets/controls",
      "model_module_version": "2.0.0",
      "model_name": "ButtonModel",
      "state": {
       "button_style": "primary",
       "description": "Clear",
       "layout": "IPY_MODEL_b902e6fdb8a743b280d3e6994c8ccd96",
       "style": "IPY_MODEL_89ac0f9ea1b542e798e6edd10bb39d46",
       "tooltip": null
      }
     },
     "3f11016b3c81405295f995a676400119": {
      "model_module": "@jupyter-widgets/controls",
      "model_module_version": "2.0.0",
      "model_name": "HTMLStyleModel",
      "state": {
       "description_width": "",
       "font_size": null,
       "text_color": null
      }
     },
     "505a596093b643669d5d8a8a025ae949": {
      "model_module": "@jupyter-widgets/controls",
      "model_module_version": "2.0.0",
      "model_name": "HTMLStyleModel",
      "state": {
       "description_width": "",
       "font_size": null,
       "text_color": null
      }
     },
     "5c110979ffe5444992d4740a5752b3c1": {
      "model_module": "@jupyter-widgets/controls",
      "model_module_version": "2.0.0",
      "model_name": "HTMLStyleModel",
      "state": {
       "description_width": "",
       "font_size": null,
       "text_color": null
      }
     },
     "7afe80e634d34041941d427d2e4a735b": {
      "model_module": "@jupyter-widgets/controls",
      "model_module_version": "2.0.0",
      "model_name": "HTMLModel",
      "state": {
       "layout": "IPY_MODEL_a92e0f59a8a441d6b1cad4995644953b",
       "style": "IPY_MODEL_f24b61c80db143f58be23b7d6b8861ff",
       "value": "<h5>Message</h5>"
      }
     },
     "8505ccd79fbd4a28a009aa0686dfa2d9": {
      "model_module": "@jupyter-widgets/controls",
      "model_module_version": "2.0.0",
      "model_name": "HBoxModel",
      "state": {
       "children": [
        "IPY_MODEL_2a05730735ce493282771e5f37f36c9d",
        "IPY_MODEL_ac7a36dbab3a45d9bd4098c47e2f059f",
        "IPY_MODEL_341e3cd01fe04744b9cdeecc9ab7a199",
        "IPY_MODEL_1bd802c3943f4a648662afddd9ba359f",
        "IPY_MODEL_7afe80e634d34041941d427d2e4a735b"
       ],
       "layout": "IPY_MODEL_28247d7b834b4fcfa846f1f5f337a8cb"
      }
     },
     "89ac0f9ea1b542e798e6edd10bb39d46": {
      "model_module": "@jupyter-widgets/controls",
      "model_module_version": "2.0.0",
      "model_name": "ButtonStyleModel",
      "state": {
       "font_family": null,
       "font_size": null,
       "font_style": null,
       "font_variant": null,
       "font_weight": null,
       "text_color": null,
       "text_decoration": null
      }
     },
     "a108432b9ed1466e8794ea735b26a857": {
      "model_module": "@jupyter-widgets/base",
      "model_module_version": "2.0.0",
      "model_name": "LayoutModel",
      "state": {
       "width": "190px"
      }
     },
     "a4dd03c3e9d9489e92129ac36bc548e8": {
      "model_module": "@jupyter-widgets/controls",
      "model_module_version": "2.0.0",
      "model_name": "HTMLModel",
      "state": {
       "layout": "IPY_MODEL_229bc63a5c01436f9c725d968137d16b",
       "style": "IPY_MODEL_505a596093b643669d5d8a8a025ae949",
       "value": "<p style='font-family: IBM Plex Sans, Arial, Helvetica, sans-serif; font-size: 20px; font-weight: medium;'>Circuit Properties</p>"
      }
     },
     "a92e0f59a8a441d6b1cad4995644953b": {
      "model_module": "@jupyter-widgets/base",
      "model_module_version": "2.0.0",
      "model_name": "LayoutModel",
      "state": {}
     },
     "ac7a36dbab3a45d9bd4098c47e2f059f": {
      "model_module": "@jupyter-widgets/controls",
      "model_module_version": "2.0.0",
      "model_name": "HTMLModel",
      "state": {
       "layout": "IPY_MODEL_f625924043c041a9ab3f94454e66749c",
       "style": "IPY_MODEL_3c37e0847af5460aa344a1e104a5a492",
       "value": "<h5>Backend</h5>"
      }
     },
     "b6c22ecf1d66404598c6e7ded1b7ceb7": {
      "model_module": "@jupyter-widgets/base",
      "model_module_version": "2.0.0",
      "model_name": "LayoutModel",
      "state": {
       "grid_template_areas": "\n                                       \". . . . right \"\n                                        ",
       "grid_template_columns": "20% 20% 20% 20% 20%",
       "width": "100%"
      }
     },
     "b902e6fdb8a743b280d3e6994c8ccd96": {
      "model_module": "@jupyter-widgets/base",
      "model_module_version": "2.0.0",
      "model_name": "LayoutModel",
      "state": {
       "grid_area": "right",
       "padding": "0px 0px 0px 0px",
       "width": "70px"
      }
     },
     "d279cd5f345d473c83d716706a5f1881": {
      "model_module": "@jupyter-widgets/base",
      "model_module_version": "2.0.0",
      "model_name": "LayoutModel",
      "state": {
       "width": "95px"
      }
     },
     "f24b61c80db143f58be23b7d6b8861ff": {
      "model_module": "@jupyter-widgets/controls",
      "model_module_version": "2.0.0",
      "model_name": "HTMLStyleModel",
      "state": {
       "description_width": "",
       "font_size": null,
       "text_color": null
      }
     },
     "f625924043c041a9ab3f94454e66749c": {
      "model_module": "@jupyter-widgets/base",
      "model_module_version": "2.0.0",
      "model_name": "LayoutModel",
      "state": {
       "width": "145px"
      }
     },
     "fd881884f7f146508bf62f30784bd030": {
      "model_module": "@jupyter-widgets/base",
      "model_module_version": "2.0.0",
      "model_name": "LayoutModel",
      "state": {
       "width": "70px"
      }
     }
    },
    "version_major": 2,
    "version_minor": 0
   }
  }
 },
 "nbformat": 4,
 "nbformat_minor": 5
}
