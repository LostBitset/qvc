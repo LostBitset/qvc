{
  "cells": [
    {
      "cell_type": "markdown",
      "source": [
        "# The Plan\n",
        "\n",
        "There are essentially two steps to this process:\n",
        "1. The Generalized W state, of the form `|10..0> + |01..1> + .. + |00..1>` (unnormalized). This represents which element we are using. \n",
        "2. The Sampling operator, which samples a random point inside the chosen element, but since we are have a superposition of all elements, this will give us a superposition of all points inside elements (white pixels). "
      ],
      "metadata": {
        "nteract": {
          "transient": {
            "deleting": false
          }
        }
      }
    },
    {
      "cell_type": "code",
      "source": [
        "desired_target, target = \"quantinuum.sim.h1-1e\", None"
      ],
      "outputs": [],
      "execution_count": 28,
      "metadata": {
        "jupyter": {
          "source_hidden": false,
          "outputs_hidden": false
        },
        "nteract": {
          "transient": {
            "deleting": false
          }
        }
      }
    },
    {
      "cell_type": "code",
      "source": [
        "from azure.quantum.cirq import AzureQuantumService\n",
        "from cirq.vis import plot_state_histogram\n",
        "import cirq\n",
        "from numpy import pi\n",
        "from matplotlib import pyplot as plt\n",
        "\n",
        "service = AzureQuantumService(\n",
        "            resource_id = \"/subscriptions/a5abf7fd-dcef-47af-8385-2fdf76385f21/resourceGroups/AzureQuantum/providers/Microsoft.Quantum/Workspaces/qvc-2\",\n",
        "            location = \"eastus\")\n",
        "\n",
        "for tgt in service.targets():\n",
        "   if tgt.current_availability == \"Available\":\n",
        "      if tgt.name == desired_target:\n",
        "         print(\"-> \" + tgt.name)\n",
        "         target = tgt\n",
        "      else:\n",
        "         print(tgt.name)"
      ],
      "outputs": [
        {
          "output_type": "stream",
          "name": "stdout",
          "text": "ionq.qpu.aria-1\nionq.simulator\nquantinuum.sim.h1-1sc\n-> quantinuum.sim.h1-1e\n"
        }
      ],
      "execution_count": 49,
      "metadata": {
        "jupyter": {
          "source_hidden": false,
          "outputs_hidden": false
        },
        "nteract": {
          "transient": {
            "deleting": false
          }
        },
        "editable": true,
        "run_control": {
          "frozen": false
        }
      }
    },
    {
      "cell_type": "markdown",
      "source": [
        "### Step 1: The Generalized W State"
      ],
      "metadata": {
        "nteract": {
          "transient": {
            "deleting": false
          }
        }
      }
    },
    {
      "cell_type": "code",
      "source": [
        "# First things first, we need to be able to create the Generalized W state\n",
        "# The most efficient way that I can think of to do this is as follows:\n",
        "def generalized_w(lg_n: int, state: list[cirq.Qid], anc: list[cirq.Qid]):\n",
        "    yield from (cirq.H(i) for i in anc)\n",
        "    yield cirq.H(state[0])\n",
        "    yield cirq.X(state[1])\n",
        "    yield cirq.CX(state[0], state[1])\n",
        "    size_before, index = 2, 0\n",
        "    while size_before < (1 << lg_n):\n",
        "        yield (\n",
        "            cmove(anc[index], state[i], state[i + size_before])\n",
        "            for i in range(size_before)\n",
        "        )\n",
        "        index += 1\n",
        "        size_before *= 2\n",
        "\n",
        "# This gate is equivalent to the Fredkin gate in the special\n",
        "# case where the last qubit is known to be in the |0> state,\n",
        "# up to a relative phase thanks to the use of a Margolus gate\n",
        "def cmove(ctrl: cirq.Qid, q1: cirq.Qid, q2: cirq.Qid):\n",
        "    yield from margolus(ctrl, q1, q2)\n",
        "    yield cirq.CX(q2, q1)\n",
        "\n",
        "# Equivalent to the Toffoli gate up to a relative phase\n",
        "def margolus(ctrl1: cirq.Qid, ctrl2: cirq.Qid, q: cirq.Qid):\n",
        "    yield cirq.Ry(rads = pi / 4)(q)\n",
        "    yield cirq.CX(ctrl1, q)\n",
        "    yield cirq.Ry(rads = pi / 4)(q)\n",
        "    yield cirq.CX(ctrl2, q)\n",
        "    yield cirq.Ry(rads = -pi / 4)(q)\n",
        "    yield cirq.CX(ctrl1, q)\n",
        "    yield cirq.Ry(rads = -pi / 4)(q)"
      ],
      "outputs": [],
      "execution_count": 75,
      "metadata": {
        "jupyter": {
          "source_hidden": false,
          "outputs_hidden": false
        },
        "nteract": {
          "transient": {
            "deleting": false
          }
        }
      }
    },
    {
      "cell_type": "code",
      "source": [
        "# Let's test it out\n",
        "lg_n = 2\n",
        "state = cirq.LineQubit.range(1 << lg_n)\n",
        "anc = cirq.LineQubit.range(len(state), len(state) + lg_n - 1)\n",
        "wstate_circ = cirq.Circuit(generalized_w(lg_n, state, anc))\n",
        "wstate_circ.append(cirq.measure(*state))\n",
        "wstate_circ"
      ],
      "outputs": [
        {
          "output_type": "execute_result",
          "execution_count": 76,
          "data": {
            "text/plain": "0: ───H───────────@───────────────@─────────────────────────────────X─────────────────────────────────────────────────M───\n                  │               │                                 │                                                 │\n1: ───X───────────X───────────────┼─────────────────────────────────┼───────────@─────────────────────────────────X───M───\n                                  │                                 │           │                                 │   │\n2: ───Ry(0.25π)───X───Ry(0.25π)───X───Ry(-0.25π)───X───Ry(-0.25π)───@───────────┼─────────────────────────────────┼───M───\n                  │                                │                            │                                 │   │\n3: ───Ry(0.25π)───┼────────────────────────────────┼───X────────────Ry(0.25π)───X───Ry(-0.25π)───X───Ry(-0.25π)───@───M───\n                  │                                │   │                                         │\n4: ───H───────────@────────────────────────────────@───@─────────────────────────────────────────@────────────────────────",
            "text/html": "<pre style=\"overflow: auto; white-space: pre;\">0: ───H───────────@───────────────@─────────────────────────────────X─────────────────────────────────────────────────M───\n                  │               │                                 │                                                 │\n1: ───X───────────X───────────────┼─────────────────────────────────┼───────────@─────────────────────────────────X───M───\n                                  │                                 │           │                                 │   │\n2: ───Ry(0.25π)───X───Ry(0.25π)───X───Ry(-0.25π)───X───Ry(-0.25π)───@───────────┼─────────────────────────────────┼───M───\n                  │                                │                            │                                 │   │\n3: ───Ry(0.25π)───┼────────────────────────────────┼───X────────────Ry(0.25π)───X───Ry(-0.25π)───X───Ry(-0.25π)───@───M───\n                  │                                │   │                                         │\n4: ───H───────────@────────────────────────────────@───@─────────────────────────────────────────@────────────────────────</pre>"
          },
          "metadata": {}
        }
      ],
      "execution_count": 76,
      "metadata": {
        "jupyter": {
          "source_hidden": false,
          "outputs_hidden": false
        },
        "nteract": {
          "transient": {
            "deleting": false
          }
        }
      }
    },
    {
      "cell_type": "code",
      "source": [
        "job = target.submit(wstate_circ, name=\"Generalized W State\", repetitions=100)"
      ],
      "outputs": [],
      "execution_count": 77,
      "metadata": {
        "jupyter": {
          "source_hidden": false,
          "outputs_hidden": false
        },
        "nteract": {
          "transient": {
            "deleting": false
          }
        }
      }
    },
    {
      "cell_type": "code",
      "source": [
        "job.status()"
      ],
      "outputs": [
        {
          "output_type": "execute_result",
          "execution_count": 93,
          "data": {
            "text/plain": "'Succeeded'"
          },
          "metadata": {}
        }
      ],
      "execution_count": 93,
      "metadata": {
        "jupyter": {
          "source_hidden": false,
          "outputs_hidden": false
        },
        "nteract": {
          "transient": {
            "deleting": false
          }
        }
      }
    },
    {
      "cell_type": "code",
      "source": [
        "job.results()"
      ],
      "outputs": [
        {
          "output_type": "execute_result",
          "execution_count": 74,
          "data": {
            "text/plain": "{'m0': ['1101',\n  '1100',\n  '1111',\n  '1101',\n  '1100',\n  '1101',\n  '1110',\n  '0000',\n  '0001',\n  '0000',\n  '1110',\n  '1111',\n  '1110',\n  '1100',\n  '0000',\n  '0011',\n  '1100',\n  '0010',\n  '1101',\n  '1100',\n  '0010',\n  '0001',\n  '0010',\n  '1100',\n  '0000',\n  '0010',\n  '1110',\n  '0110',\n  '1100',\n  '1110',\n  '1110',\n  '0011',\n  '1110',\n  '0000',\n  '0011',\n  '0011',\n  '0011',\n  '0001',\n  '0011',\n  '0010',\n  '0011',\n  '1101',\n  '1100',\n  '1101',\n  '0000',\n  '0011',\n  '0001',\n  '1101',\n  '1101',\n  '0010',\n  '0010',\n  '1101',\n  '0000',\n  '1111',\n  '0010',\n  '1111',\n  '0010',\n  '0001',\n  '0000',\n  '1101',\n  '0011',\n  '1110',\n  '1100',\n  '1101',\n  '0000',\n  '1101',\n  '1100',\n  '0010',\n  '1101',\n  '0011',\n  '0010',\n  '1110',\n  '0011',\n  '0000',\n  '0011',\n  '0010',\n  '0000',\n  '0000',\n  '1100',\n  '0011',\n  '1110',\n  '1110',\n  '1110',\n  '0000',\n  '0001',\n  '0011',\n  '0010',\n  '1101',\n  '0011',\n  '0010',\n  '1100',\n  '0001',\n  '1100',\n  '0000',\n  '0011',\n  '1111',\n  '0000',\n  '1101',\n  '1110',\n  '0011']}"
          },
          "metadata": {}
        }
      ],
      "execution_count": 74,
      "metadata": {
        "jupyter": {
          "source_hidden": false,
          "outputs_hidden": false
        },
        "nteract": {
          "transient": {
            "deleting": false
          }
        }
      }
    }
  ],
  "metadata": {
    "language_info": {
      "name": "python",
      "version": "3.9.18",
      "mimetype": "text/x-python",
      "codemirror_mode": {
        "name": "ipython",
        "version": 3
      },
      "pygments_lexer": "ipython3",
      "nbconvert_exporter": "python",
      "file_extension": ".py"
    },
    "kernelspec": {
      "name": "python3",
      "language": "python",
      "display_name": "Python 3 (ipykernel)"
    },
    "kernel_info": {
      "name": "python3"
    },
    "nteract": {
      "version": "nteract-front-end@1.0.0"
    }
  },
  "nbformat": 4,
  "nbformat_minor": 0
}