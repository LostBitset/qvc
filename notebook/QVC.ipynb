{
  "cells": [
    {
      "cell_type": "code",
      "source": [
        "desired_target, target = \"quantinuum.sim.h1-1sc\", None"
      ],
      "outputs": [],
      "execution_count": 8,
      "metadata": {
        "jupyter": {
          "source_hidden": false,
          "outputs_hidden": false
        },
        "nteract": {
          "transient": {
            "deleting": false
          }
        }
      }
    },
    {
      "cell_type": "code",
      "source": [
        "from azure.quantum.cirq import AzureQuantumService\n",
        "from cirq.vis import plot_state_histogram\n",
        "import cirq\n",
        "\n",
        "service = AzureQuantumService(\n",
        "            resource_id = \"/subscriptions/a5abf7fd-dcef-47af-8385-2fdf76385f21/resourceGroups/AzureQuantum/providers/Microsoft.Quantum/Workspaces/qvc-2\",\n",
        "            location = \"eastus\")\n",
        "\n",
        "for tgt in service.targets():\n",
        "   if tgt.current_availability == \"Available\":\n",
        "      if tgt.name == desired_target:\n",
        "         print(\"-> \" + tgt.name)\n",
        "         target = tgt\n",
        "      else:\n",
        "         print(tgt.name)\n",
        "\n",
        "from functools import wraps\n",
        "\n",
        "def subcircuit(circuit_fn):\n",
        "   @wraps(circuit_fn)\n",
        "   def inner(*args, **kwargs):\n",
        "      circ = circuit_fn(*args, **kwargs)\n",
        "      return cirq.CircuitOperation(circ.freeze())"
      ],
      "outputs": [
        {
          "output_type": "stream",
          "name": "stdout",
          "text": "ionq.qpu.aria-1\nionq.simulator\nquantinuum.qpu.h1-1\n-> quantinuum.sim.h1-1sc\nquantinuum.sim.h1-1e\n"
        }
      ],
      "execution_count": 11,
      "metadata": {
        "jupyter": {
          "source_hidden": false,
          "outputs_hidden": false
        },
        "nteract": {
          "transient": {
            "deleting": false
          }
        },
        "editable": true,
        "run_control": {
          "frozen": false
        }
      }
    },
    {
      "cell_type": "code",
      "source": [
        "# First things first, we need to be able to create the Generalized W state\n",
        "# The most efficient way that I can think of to do this is as follows:\n",
        "@subcircuit\n",
        "def generalized_w(lg_n: int):\n",
        "    # TODO"
      ],
      "outputs": [],
      "execution_count": null,
      "metadata": {
        "jupyter": {
          "source_hidden": false,
          "outputs_hidden": false
        },
        "nteract": {
          "transient": {
            "deleting": false
          }
        }
      }
    }
  ],
  "metadata": {
    "language_info": {
      "name": "python",
      "version": "3.9.18",
      "mimetype": "text/x-python",
      "codemirror_mode": {
        "name": "ipython",
        "version": 3
      },
      "pygments_lexer": "ipython3",
      "nbconvert_exporter": "python",
      "file_extension": ".py"
    },
    "kernelspec": {
      "name": "python3",
      "language": "python",
      "display_name": "Python 3 (ipykernel)"
    },
    "kernel_info": {
      "name": "python3"
    },
    "nteract": {
      "version": "nteract-front-end@1.0.0"
    }
  },
  "nbformat": 4,
  "nbformat_minor": 0
}